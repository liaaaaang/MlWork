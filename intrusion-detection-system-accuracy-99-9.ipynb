{
 "cells": [
  {
   "cell_type": "markdown",
   "metadata": {},
   "source": [
    "This is the second version of my public kernel(Intrusion Detection System). ANN is also trained & tested on the dataset in this version.\n",
    "I would really appreciate your feedback."
   ]
  },
  {
   "cell_type": "code",
   "metadata": {
    "execution": {
     "iopub.status.busy": "2021-12-22T12:30:33.504259Z",
     "iopub.status.idle": "2021-12-22T12:30:33.505123Z"
    },
    "scrolled": true,
    "ExecuteTime": {
     "end_time": "2024-12-06T07:36:20.381363Z",
     "start_time": "2024-12-06T07:36:20.193863Z"
    }
   },
   "source": [
    "import os\n",
    "import pandas as pd\n",
    "import numpy as np\n",
    "import matplotlib.pyplot as plt\n",
    "import seaborn as sns\n",
    "import time\n",
    "from sklearn import preprocessing"
   ],
   "outputs": [],
   "execution_count": 1
  },
  {
   "cell_type": "code",
   "metadata": {
    "execution": {
     "iopub.status.busy": "2021-12-22T12:30:33.508387Z",
     "iopub.status.idle": "2021-12-22T12:30:33.509208Z"
    },
    "ExecuteTime": {
     "end_time": "2024-12-06T07:36:20.397322Z",
     "start_time": "2024-12-06T07:36:20.382361Z"
    }
   },
   "source": [
    "with open(\"./dataset/featuresNames.txt\",'r') as f:\n",
    "    print(f.read())"
   ],
   "outputs": [
    {
     "name": "stdout",
     "output_type": "stream",
     "text": [
      "back,buffer_overflow,ftp_write,guess_passwd,imap,ipsweep,land,loadmodule,multihop,neptune,nmap,normal,perl,phf,pod,portsweep,rootkit,satan,smurf,spy,teardrop,warezclient,warezmaster.\n",
      "duration: continuous.\n",
      "protocol_type: symbolic.\n",
      "service: symbolic.\n",
      "flag: symbolic.\n",
      "src_bytes: continuous.\n",
      "dst_bytes: continuous.\n",
      "land: symbolic.\n",
      "wrong_fragment: continuous.\n",
      "urgent: continuous.\n",
      "hot: continuous.\n",
      "num_failed_logins: continuous.\n",
      "logged_in: symbolic.\n",
      "num_compromised: continuous.\n",
      "root_shell: continuous.\n",
      "su_attempted: continuous.\n",
      "num_root: continuous.\n",
      "num_file_creations: continuous.\n",
      "num_shells: continuous.\n",
      "num_access_files: continuous.\n",
      "num_outbound_cmds: continuous.\n",
      "is_host_login: symbolic.\n",
      "is_guest_login: symbolic.\n",
      "count: continuous.\n",
      "srv_count: continuous.\n",
      "serror_rate: continuous.\n",
      "srv_serror_rate: continuous.\n",
      "rerror_rate: continuous.\n",
      "srv_rerror_rate: continuous.\n",
      "same_srv_rate: continuous.\n",
      "diff_srv_rate: continuous.\n",
      "srv_diff_host_rate: continuous.\n",
      "dst_host_count: continuous.\n",
      "dst_host_srv_count: continuous.\n",
      "dst_host_same_srv_rate: continuous.\n",
      "dst_host_diff_srv_rate: continuous.\n",
      "dst_host_same_src_port_rate: continuous.\n",
      "dst_host_srv_diff_host_rate: continuous.\n",
      "dst_host_serror_rate: continuous.\n",
      "dst_host_srv_serror_rate: continuous.\n",
      "dst_host_rerror_rate: continuous.\n",
      "dst_host_srv_rerror_rate: continuous.\n"
     ]
    }
   ],
   "execution_count": 2
  },
  {
   "cell_type": "code",
   "metadata": {
    "execution": {
     "iopub.status.busy": "2021-12-22T12:30:33.512574Z",
     "iopub.status.idle": "2021-12-22T12:30:33.513391Z"
    },
    "ExecuteTime": {
     "end_time": "2024-12-06T07:36:20.413278Z",
     "start_time": "2024-12-06T07:36:20.399315Z"
    }
   },
   "source": [
    "cols=\"\"\"duration,\n",
    "protocol_type,\n",
    "service,\n",
    "flag,\n",
    "src_bytes,\n",
    "dst_bytes,\n",
    "land,\n",
    "wrong_fragment,\n",
    "urgent,\n",
    "hot,\n",
    "num_failed_logins,\n",
    "logged_in,\n",
    "num_compromised,\n",
    "root_shell,\n",
    "su_attempted,\n",
    "num_root,\n",
    "num_file_creations,\n",
    "num_shells,\n",
    "num_access_files,\n",
    "num_outbound_cmds,\n",
    "is_host_login,\n",
    "is_guest_login,\n",
    "count,\n",
    "srv_count,\n",
    "serror_rate,\n",
    "srv_serror_rate,\n",
    "rerror_rate,\n",
    "srv_rerror_rate,\n",
    "same_srv_rate,\n",
    "diff_srv_rate,\n",
    "srv_diff_host_rate,\n",
    "dst_host_count,\n",
    "dst_host_srv_count,\n",
    "dst_host_same_srv_rate,\n",
    "dst_host_diff_srv_rate,\n",
    "dst_host_same_src_port_rate,\n",
    "dst_host_srv_diff_host_rate,\n",
    "dst_host_serror_rate,\n",
    "dst_host_srv_serror_rate,\n",
    "dst_host_rerror_rate,\n",
    "dst_host_srv_rerror_rate\"\"\"\n",
    "\n",
    "columns=[]\n",
    "for c in cols.split(','):\n",
    "    if(c.strip()):\n",
    "       columns.append(c.strip())\n",
    "\n",
    "columns.append('target')\n",
    "print(columns)\n",
    "print(len(columns))"
   ],
   "outputs": [
    {
     "name": "stdout",
     "output_type": "stream",
     "text": [
      "['duration', 'protocol_type', 'service', 'flag', 'src_bytes', 'dst_bytes', 'land', 'wrong_fragment', 'urgent', 'hot', 'num_failed_logins', 'logged_in', 'num_compromised', 'root_shell', 'su_attempted', 'num_root', 'num_file_creations', 'num_shells', 'num_access_files', 'num_outbound_cmds', 'is_host_login', 'is_guest_login', 'count', 'srv_count', 'serror_rate', 'srv_serror_rate', 'rerror_rate', 'srv_rerror_rate', 'same_srv_rate', 'diff_srv_rate', 'srv_diff_host_rate', 'dst_host_count', 'dst_host_srv_count', 'dst_host_same_srv_rate', 'dst_host_diff_srv_rate', 'dst_host_same_src_port_rate', 'dst_host_srv_diff_host_rate', 'dst_host_serror_rate', 'dst_host_srv_serror_rate', 'dst_host_rerror_rate', 'dst_host_srv_rerror_rate', 'target']\n",
      "42\n"
     ]
    }
   ],
   "execution_count": 3
  },
  {
   "cell_type": "code",
   "metadata": {
    "execution": {
     "iopub.status.busy": "2021-12-22T12:30:33.514569Z",
     "iopub.status.idle": "2021-12-22T12:30:33.515364Z"
    },
    "ExecuteTime": {
     "end_time": "2024-12-06T07:36:20.429234Z",
     "start_time": "2024-12-06T07:36:20.414276Z"
    }
   },
   "source": [
    "with open(\"./dataset/training_attack_types.txt\",'r') as f:\n",
    "    print(f.read())"
   ],
   "outputs": [
    {
     "name": "stdout",
     "output_type": "stream",
     "text": [
      "back dos\n",
      "buffer_overflow u2r\n",
      "ftp_write r2l\n",
      "guess_passwd r2l\n",
      "imap r2l\n",
      "ipsweep probe\n",
      "land dos\n",
      "loadmodule u2r\n",
      "multihop r2l\n",
      "neptune dos\n",
      "nmap probe\n",
      "perl u2r\n",
      "phf r2l\n",
      "pod dos\n",
      "portsweep probe\n",
      "rootkit u2r\n",
      "satan probe\n",
      "smurf dos\n",
      "spy r2l\n",
      "teardrop dos\n",
      "warezclient r2l\n",
      "warezmaster r2l\n",
      "\n"
     ]
    }
   ],
   "execution_count": 4
  },
  {
   "cell_type": "code",
   "metadata": {
    "execution": {
     "iopub.status.busy": "2021-12-22T12:30:33.516522Z",
     "iopub.status.idle": "2021-12-22T12:30:33.517332Z"
    },
    "ExecuteTime": {
     "end_time": "2024-12-06T07:36:20.445191Z",
     "start_time": "2024-12-06T07:36:20.431232Z"
    }
   },
   "source": [
    "attacks_types = {\n",
    "    'normal': 'normal',\n",
    "'back': 'dos',\n",
    "'buffer_overflow': 'u2r',\n",
    "'ftp_write': 'r2l',\n",
    "'guess_passwd': 'r2l',\n",
    "'imap': 'r2l',\n",
    "'ipsweep': 'probe',\n",
    "'land': 'dos',\n",
    "'loadmodule': 'u2r',\n",
    "'multihop': 'r2l',\n",
    "'neptune': 'dos',\n",
    "'nmap': 'probe',\n",
    "'perl': 'u2r',\n",
    "'phf': 'r2l',\n",
    "'pod': 'dos',\n",
    "'portsweep': 'probe',\n",
    "'rootkit': 'u2r',\n",
    "'satan': 'probe',\n",
    "'smurf': 'dos',\n",
    "'spy': 'r2l',\n",
    "'teardrop': 'dos',\n",
    "'warezclient': 'r2l',\n",
    "'warezmaster': 'r2l',\n",
    "}\n"
   ],
   "outputs": [],
   "execution_count": 5
  },
  {
   "cell_type": "markdown",
   "metadata": {},
   "source": [
    "READING DATASET"
   ]
  },
  {
   "cell_type": "code",
   "metadata": {
    "execution": {
     "iopub.status.busy": "2021-12-22T12:30:33.518456Z",
     "iopub.status.idle": "2021-12-22T12:30:33.519221Z"
    },
    "ExecuteTime": {
     "end_time": "2024-12-06T07:36:22.116762Z",
     "start_time": "2024-12-06T07:36:20.447187Z"
    }
   },
   "source": [
    "path = \"./dataset/kddcup.data_10_percent_corrected\"\n",
    "df = pd.read_csv(path,names=columns)\n",
    "df"
   ],
   "outputs": [
    {
     "data": {
      "text/plain": [
       "        duration protocol_type service flag  src_bytes  dst_bytes  land  \\\n",
       "0              0           tcp    http   SF        181       5450     0   \n",
       "1              0           tcp    http   SF        239        486     0   \n",
       "2              0           tcp    http   SF        235       1337     0   \n",
       "3              0           tcp    http   SF        219       1337     0   \n",
       "4              0           tcp    http   SF        217       2032     0   \n",
       "...          ...           ...     ...  ...        ...        ...   ...   \n",
       "494016         0           tcp    http   SF        310       1881     0   \n",
       "494017         0           tcp    http   SF        282       2286     0   \n",
       "494018         0           tcp    http   SF        203       1200     0   \n",
       "494019         0           tcp    http   SF        291       1200     0   \n",
       "494020         0           tcp    http   SF        219       1234     0   \n",
       "\n",
       "        wrong_fragment  urgent  hot  ...  dst_host_srv_count  \\\n",
       "0                    0       0    0  ...                   9   \n",
       "1                    0       0    0  ...                  19   \n",
       "2                    0       0    0  ...                  29   \n",
       "3                    0       0    0  ...                  39   \n",
       "4                    0       0    0  ...                  49   \n",
       "...                ...     ...  ...  ...                 ...   \n",
       "494016               0       0    0  ...                 255   \n",
       "494017               0       0    0  ...                 255   \n",
       "494018               0       0    0  ...                 255   \n",
       "494019               0       0    0  ...                 255   \n",
       "494020               0       0    0  ...                 255   \n",
       "\n",
       "        dst_host_same_srv_rate  dst_host_diff_srv_rate  \\\n",
       "0                          1.0                     0.0   \n",
       "1                          1.0                     0.0   \n",
       "2                          1.0                     0.0   \n",
       "3                          1.0                     0.0   \n",
       "4                          1.0                     0.0   \n",
       "...                        ...                     ...   \n",
       "494016                     1.0                     0.0   \n",
       "494017                     1.0                     0.0   \n",
       "494018                     1.0                     0.0   \n",
       "494019                     1.0                     0.0   \n",
       "494020                     1.0                     0.0   \n",
       "\n",
       "        dst_host_same_src_port_rate  dst_host_srv_diff_host_rate  \\\n",
       "0                              0.11                         0.00   \n",
       "1                              0.05                         0.00   \n",
       "2                              0.03                         0.00   \n",
       "3                              0.03                         0.00   \n",
       "4                              0.02                         0.00   \n",
       "...                             ...                          ...   \n",
       "494016                         0.01                         0.05   \n",
       "494017                         0.17                         0.05   \n",
       "494018                         0.06                         0.05   \n",
       "494019                         0.04                         0.05   \n",
       "494020                         0.17                         0.05   \n",
       "\n",
       "        dst_host_serror_rate  dst_host_srv_serror_rate  dst_host_rerror_rate  \\\n",
       "0                       0.00                      0.00                   0.0   \n",
       "1                       0.00                      0.00                   0.0   \n",
       "2                       0.00                      0.00                   0.0   \n",
       "3                       0.00                      0.00                   0.0   \n",
       "4                       0.00                      0.00                   0.0   \n",
       "...                      ...                       ...                   ...   \n",
       "494016                  0.00                      0.01                   0.0   \n",
       "494017                  0.00                      0.01                   0.0   \n",
       "494018                  0.06                      0.01                   0.0   \n",
       "494019                  0.04                      0.01                   0.0   \n",
       "494020                  0.00                      0.01                   0.0   \n",
       "\n",
       "        dst_host_srv_rerror_rate   target  \n",
       "0                            0.0  normal.  \n",
       "1                            0.0  normal.  \n",
       "2                            0.0  normal.  \n",
       "3                            0.0  normal.  \n",
       "4                            0.0  normal.  \n",
       "...                          ...      ...  \n",
       "494016                       0.0  normal.  \n",
       "494017                       0.0  normal.  \n",
       "494018                       0.0  normal.  \n",
       "494019                       0.0  normal.  \n",
       "494020                       0.0  normal.  \n",
       "\n",
       "[494021 rows x 42 columns]"
      ],
      "text/html": [
       "<div>\n",
       "<style scoped>\n",
       "    .dataframe tbody tr th:only-of-type {\n",
       "        vertical-align: middle;\n",
       "    }\n",
       "\n",
       "    .dataframe tbody tr th {\n",
       "        vertical-align: top;\n",
       "    }\n",
       "\n",
       "    .dataframe thead th {\n",
       "        text-align: right;\n",
       "    }\n",
       "</style>\n",
       "<table border=\"1\" class=\"dataframe\">\n",
       "  <thead>\n",
       "    <tr style=\"text-align: right;\">\n",
       "      <th></th>\n",
       "      <th>duration</th>\n",
       "      <th>protocol_type</th>\n",
       "      <th>service</th>\n",
       "      <th>flag</th>\n",
       "      <th>src_bytes</th>\n",
       "      <th>dst_bytes</th>\n",
       "      <th>land</th>\n",
       "      <th>wrong_fragment</th>\n",
       "      <th>urgent</th>\n",
       "      <th>hot</th>\n",
       "      <th>...</th>\n",
       "      <th>dst_host_srv_count</th>\n",
       "      <th>dst_host_same_srv_rate</th>\n",
       "      <th>dst_host_diff_srv_rate</th>\n",
       "      <th>dst_host_same_src_port_rate</th>\n",
       "      <th>dst_host_srv_diff_host_rate</th>\n",
       "      <th>dst_host_serror_rate</th>\n",
       "      <th>dst_host_srv_serror_rate</th>\n",
       "      <th>dst_host_rerror_rate</th>\n",
       "      <th>dst_host_srv_rerror_rate</th>\n",
       "      <th>target</th>\n",
       "    </tr>\n",
       "  </thead>\n",
       "  <tbody>\n",
       "    <tr>\n",
       "      <th>0</th>\n",
       "      <td>0</td>\n",
       "      <td>tcp</td>\n",
       "      <td>http</td>\n",
       "      <td>SF</td>\n",
       "      <td>181</td>\n",
       "      <td>5450</td>\n",
       "      <td>0</td>\n",
       "      <td>0</td>\n",
       "      <td>0</td>\n",
       "      <td>0</td>\n",
       "      <td>...</td>\n",
       "      <td>9</td>\n",
       "      <td>1.0</td>\n",
       "      <td>0.0</td>\n",
       "      <td>0.11</td>\n",
       "      <td>0.00</td>\n",
       "      <td>0.00</td>\n",
       "      <td>0.00</td>\n",
       "      <td>0.0</td>\n",
       "      <td>0.0</td>\n",
       "      <td>normal.</td>\n",
       "    </tr>\n",
       "    <tr>\n",
       "      <th>1</th>\n",
       "      <td>0</td>\n",
       "      <td>tcp</td>\n",
       "      <td>http</td>\n",
       "      <td>SF</td>\n",
       "      <td>239</td>\n",
       "      <td>486</td>\n",
       "      <td>0</td>\n",
       "      <td>0</td>\n",
       "      <td>0</td>\n",
       "      <td>0</td>\n",
       "      <td>...</td>\n",
       "      <td>19</td>\n",
       "      <td>1.0</td>\n",
       "      <td>0.0</td>\n",
       "      <td>0.05</td>\n",
       "      <td>0.00</td>\n",
       "      <td>0.00</td>\n",
       "      <td>0.00</td>\n",
       "      <td>0.0</td>\n",
       "      <td>0.0</td>\n",
       "      <td>normal.</td>\n",
       "    </tr>\n",
       "    <tr>\n",
       "      <th>2</th>\n",
       "      <td>0</td>\n",
       "      <td>tcp</td>\n",
       "      <td>http</td>\n",
       "      <td>SF</td>\n",
       "      <td>235</td>\n",
       "      <td>1337</td>\n",
       "      <td>0</td>\n",
       "      <td>0</td>\n",
       "      <td>0</td>\n",
       "      <td>0</td>\n",
       "      <td>...</td>\n",
       "      <td>29</td>\n",
       "      <td>1.0</td>\n",
       "      <td>0.0</td>\n",
       "      <td>0.03</td>\n",
       "      <td>0.00</td>\n",
       "      <td>0.00</td>\n",
       "      <td>0.00</td>\n",
       "      <td>0.0</td>\n",
       "      <td>0.0</td>\n",
       "      <td>normal.</td>\n",
       "    </tr>\n",
       "    <tr>\n",
       "      <th>3</th>\n",
       "      <td>0</td>\n",
       "      <td>tcp</td>\n",
       "      <td>http</td>\n",
       "      <td>SF</td>\n",
       "      <td>219</td>\n",
       "      <td>1337</td>\n",
       "      <td>0</td>\n",
       "      <td>0</td>\n",
       "      <td>0</td>\n",
       "      <td>0</td>\n",
       "      <td>...</td>\n",
       "      <td>39</td>\n",
       "      <td>1.0</td>\n",
       "      <td>0.0</td>\n",
       "      <td>0.03</td>\n",
       "      <td>0.00</td>\n",
       "      <td>0.00</td>\n",
       "      <td>0.00</td>\n",
       "      <td>0.0</td>\n",
       "      <td>0.0</td>\n",
       "      <td>normal.</td>\n",
       "    </tr>\n",
       "    <tr>\n",
       "      <th>4</th>\n",
       "      <td>0</td>\n",
       "      <td>tcp</td>\n",
       "      <td>http</td>\n",
       "      <td>SF</td>\n",
       "      <td>217</td>\n",
       "      <td>2032</td>\n",
       "      <td>0</td>\n",
       "      <td>0</td>\n",
       "      <td>0</td>\n",
       "      <td>0</td>\n",
       "      <td>...</td>\n",
       "      <td>49</td>\n",
       "      <td>1.0</td>\n",
       "      <td>0.0</td>\n",
       "      <td>0.02</td>\n",
       "      <td>0.00</td>\n",
       "      <td>0.00</td>\n",
       "      <td>0.00</td>\n",
       "      <td>0.0</td>\n",
       "      <td>0.0</td>\n",
       "      <td>normal.</td>\n",
       "    </tr>\n",
       "    <tr>\n",
       "      <th>...</th>\n",
       "      <td>...</td>\n",
       "      <td>...</td>\n",
       "      <td>...</td>\n",
       "      <td>...</td>\n",
       "      <td>...</td>\n",
       "      <td>...</td>\n",
       "      <td>...</td>\n",
       "      <td>...</td>\n",
       "      <td>...</td>\n",
       "      <td>...</td>\n",
       "      <td>...</td>\n",
       "      <td>...</td>\n",
       "      <td>...</td>\n",
       "      <td>...</td>\n",
       "      <td>...</td>\n",
       "      <td>...</td>\n",
       "      <td>...</td>\n",
       "      <td>...</td>\n",
       "      <td>...</td>\n",
       "      <td>...</td>\n",
       "      <td>...</td>\n",
       "    </tr>\n",
       "    <tr>\n",
       "      <th>494016</th>\n",
       "      <td>0</td>\n",
       "      <td>tcp</td>\n",
       "      <td>http</td>\n",
       "      <td>SF</td>\n",
       "      <td>310</td>\n",
       "      <td>1881</td>\n",
       "      <td>0</td>\n",
       "      <td>0</td>\n",
       "      <td>0</td>\n",
       "      <td>0</td>\n",
       "      <td>...</td>\n",
       "      <td>255</td>\n",
       "      <td>1.0</td>\n",
       "      <td>0.0</td>\n",
       "      <td>0.01</td>\n",
       "      <td>0.05</td>\n",
       "      <td>0.00</td>\n",
       "      <td>0.01</td>\n",
       "      <td>0.0</td>\n",
       "      <td>0.0</td>\n",
       "      <td>normal.</td>\n",
       "    </tr>\n",
       "    <tr>\n",
       "      <th>494017</th>\n",
       "      <td>0</td>\n",
       "      <td>tcp</td>\n",
       "      <td>http</td>\n",
       "      <td>SF</td>\n",
       "      <td>282</td>\n",
       "      <td>2286</td>\n",
       "      <td>0</td>\n",
       "      <td>0</td>\n",
       "      <td>0</td>\n",
       "      <td>0</td>\n",
       "      <td>...</td>\n",
       "      <td>255</td>\n",
       "      <td>1.0</td>\n",
       "      <td>0.0</td>\n",
       "      <td>0.17</td>\n",
       "      <td>0.05</td>\n",
       "      <td>0.00</td>\n",
       "      <td>0.01</td>\n",
       "      <td>0.0</td>\n",
       "      <td>0.0</td>\n",
       "      <td>normal.</td>\n",
       "    </tr>\n",
       "    <tr>\n",
       "      <th>494018</th>\n",
       "      <td>0</td>\n",
       "      <td>tcp</td>\n",
       "      <td>http</td>\n",
       "      <td>SF</td>\n",
       "      <td>203</td>\n",
       "      <td>1200</td>\n",
       "      <td>0</td>\n",
       "      <td>0</td>\n",
       "      <td>0</td>\n",
       "      <td>0</td>\n",
       "      <td>...</td>\n",
       "      <td>255</td>\n",
       "      <td>1.0</td>\n",
       "      <td>0.0</td>\n",
       "      <td>0.06</td>\n",
       "      <td>0.05</td>\n",
       "      <td>0.06</td>\n",
       "      <td>0.01</td>\n",
       "      <td>0.0</td>\n",
       "      <td>0.0</td>\n",
       "      <td>normal.</td>\n",
       "    </tr>\n",
       "    <tr>\n",
       "      <th>494019</th>\n",
       "      <td>0</td>\n",
       "      <td>tcp</td>\n",
       "      <td>http</td>\n",
       "      <td>SF</td>\n",
       "      <td>291</td>\n",
       "      <td>1200</td>\n",
       "      <td>0</td>\n",
       "      <td>0</td>\n",
       "      <td>0</td>\n",
       "      <td>0</td>\n",
       "      <td>...</td>\n",
       "      <td>255</td>\n",
       "      <td>1.0</td>\n",
       "      <td>0.0</td>\n",
       "      <td>0.04</td>\n",
       "      <td>0.05</td>\n",
       "      <td>0.04</td>\n",
       "      <td>0.01</td>\n",
       "      <td>0.0</td>\n",
       "      <td>0.0</td>\n",
       "      <td>normal.</td>\n",
       "    </tr>\n",
       "    <tr>\n",
       "      <th>494020</th>\n",
       "      <td>0</td>\n",
       "      <td>tcp</td>\n",
       "      <td>http</td>\n",
       "      <td>SF</td>\n",
       "      <td>219</td>\n",
       "      <td>1234</td>\n",
       "      <td>0</td>\n",
       "      <td>0</td>\n",
       "      <td>0</td>\n",
       "      <td>0</td>\n",
       "      <td>...</td>\n",
       "      <td>255</td>\n",
       "      <td>1.0</td>\n",
       "      <td>0.0</td>\n",
       "      <td>0.17</td>\n",
       "      <td>0.05</td>\n",
       "      <td>0.00</td>\n",
       "      <td>0.01</td>\n",
       "      <td>0.0</td>\n",
       "      <td>0.0</td>\n",
       "      <td>normal.</td>\n",
       "    </tr>\n",
       "  </tbody>\n",
       "</table>\n",
       "<p>494021 rows × 42 columns</p>\n",
       "</div>"
      ]
     },
     "execution_count": 6,
     "metadata": {},
     "output_type": "execute_result"
    }
   ],
   "execution_count": 6
  },
  {
   "cell_type": "code",
   "metadata": {
    "ExecuteTime": {
     "end_time": "2024-12-06T07:36:22.400975Z",
     "start_time": "2024-12-06T07:36:22.118757Z"
    }
   },
   "source": [
    "target1=df['target']\n",
    "le = preprocessing.LabelEncoder()\n",
    "#小类标签数字化，共23小类\n",
    "labels_23_category =le.fit_transform(target1).astype(np.int64)\n",
    "df[\"target_digit\"]= labels_23_category\n",
    "df"
   ],
   "outputs": [
    {
     "data": {
      "text/plain": [
       "        duration protocol_type service flag  src_bytes  dst_bytes  land  \\\n",
       "0              0           tcp    http   SF        181       5450     0   \n",
       "1              0           tcp    http   SF        239        486     0   \n",
       "2              0           tcp    http   SF        235       1337     0   \n",
       "3              0           tcp    http   SF        219       1337     0   \n",
       "4              0           tcp    http   SF        217       2032     0   \n",
       "...          ...           ...     ...  ...        ...        ...   ...   \n",
       "494016         0           tcp    http   SF        310       1881     0   \n",
       "494017         0           tcp    http   SF        282       2286     0   \n",
       "494018         0           tcp    http   SF        203       1200     0   \n",
       "494019         0           tcp    http   SF        291       1200     0   \n",
       "494020         0           tcp    http   SF        219       1234     0   \n",
       "\n",
       "        wrong_fragment  urgent  hot  ...  dst_host_same_srv_rate  \\\n",
       "0                    0       0    0  ...                     1.0   \n",
       "1                    0       0    0  ...                     1.0   \n",
       "2                    0       0    0  ...                     1.0   \n",
       "3                    0       0    0  ...                     1.0   \n",
       "4                    0       0    0  ...                     1.0   \n",
       "...                ...     ...  ...  ...                     ...   \n",
       "494016               0       0    0  ...                     1.0   \n",
       "494017               0       0    0  ...                     1.0   \n",
       "494018               0       0    0  ...                     1.0   \n",
       "494019               0       0    0  ...                     1.0   \n",
       "494020               0       0    0  ...                     1.0   \n",
       "\n",
       "        dst_host_diff_srv_rate  dst_host_same_src_port_rate  \\\n",
       "0                          0.0                         0.11   \n",
       "1                          0.0                         0.05   \n",
       "2                          0.0                         0.03   \n",
       "3                          0.0                         0.03   \n",
       "4                          0.0                         0.02   \n",
       "...                        ...                          ...   \n",
       "494016                     0.0                         0.01   \n",
       "494017                     0.0                         0.17   \n",
       "494018                     0.0                         0.06   \n",
       "494019                     0.0                         0.04   \n",
       "494020                     0.0                         0.17   \n",
       "\n",
       "        dst_host_srv_diff_host_rate  dst_host_serror_rate  \\\n",
       "0                              0.00                  0.00   \n",
       "1                              0.00                  0.00   \n",
       "2                              0.00                  0.00   \n",
       "3                              0.00                  0.00   \n",
       "4                              0.00                  0.00   \n",
       "...                             ...                   ...   \n",
       "494016                         0.05                  0.00   \n",
       "494017                         0.05                  0.00   \n",
       "494018                         0.05                  0.06   \n",
       "494019                         0.05                  0.04   \n",
       "494020                         0.05                  0.00   \n",
       "\n",
       "        dst_host_srv_serror_rate  dst_host_rerror_rate  \\\n",
       "0                           0.00                   0.0   \n",
       "1                           0.00                   0.0   \n",
       "2                           0.00                   0.0   \n",
       "3                           0.00                   0.0   \n",
       "4                           0.00                   0.0   \n",
       "...                          ...                   ...   \n",
       "494016                      0.01                   0.0   \n",
       "494017                      0.01                   0.0   \n",
       "494018                      0.01                   0.0   \n",
       "494019                      0.01                   0.0   \n",
       "494020                      0.01                   0.0   \n",
       "\n",
       "        dst_host_srv_rerror_rate   target  target_digit  \n",
       "0                            0.0  normal.            11  \n",
       "1                            0.0  normal.            11  \n",
       "2                            0.0  normal.            11  \n",
       "3                            0.0  normal.            11  \n",
       "4                            0.0  normal.            11  \n",
       "...                          ...      ...           ...  \n",
       "494016                       0.0  normal.            11  \n",
       "494017                       0.0  normal.            11  \n",
       "494018                       0.0  normal.            11  \n",
       "494019                       0.0  normal.            11  \n",
       "494020                       0.0  normal.            11  \n",
       "\n",
       "[494021 rows x 43 columns]"
      ],
      "text/html": [
       "<div>\n",
       "<style scoped>\n",
       "    .dataframe tbody tr th:only-of-type {\n",
       "        vertical-align: middle;\n",
       "    }\n",
       "\n",
       "    .dataframe tbody tr th {\n",
       "        vertical-align: top;\n",
       "    }\n",
       "\n",
       "    .dataframe thead th {\n",
       "        text-align: right;\n",
       "    }\n",
       "</style>\n",
       "<table border=\"1\" class=\"dataframe\">\n",
       "  <thead>\n",
       "    <tr style=\"text-align: right;\">\n",
       "      <th></th>\n",
       "      <th>duration</th>\n",
       "      <th>protocol_type</th>\n",
       "      <th>service</th>\n",
       "      <th>flag</th>\n",
       "      <th>src_bytes</th>\n",
       "      <th>dst_bytes</th>\n",
       "      <th>land</th>\n",
       "      <th>wrong_fragment</th>\n",
       "      <th>urgent</th>\n",
       "      <th>hot</th>\n",
       "      <th>...</th>\n",
       "      <th>dst_host_same_srv_rate</th>\n",
       "      <th>dst_host_diff_srv_rate</th>\n",
       "      <th>dst_host_same_src_port_rate</th>\n",
       "      <th>dst_host_srv_diff_host_rate</th>\n",
       "      <th>dst_host_serror_rate</th>\n",
       "      <th>dst_host_srv_serror_rate</th>\n",
       "      <th>dst_host_rerror_rate</th>\n",
       "      <th>dst_host_srv_rerror_rate</th>\n",
       "      <th>target</th>\n",
       "      <th>target_digit</th>\n",
       "    </tr>\n",
       "  </thead>\n",
       "  <tbody>\n",
       "    <tr>\n",
       "      <th>0</th>\n",
       "      <td>0</td>\n",
       "      <td>tcp</td>\n",
       "      <td>http</td>\n",
       "      <td>SF</td>\n",
       "      <td>181</td>\n",
       "      <td>5450</td>\n",
       "      <td>0</td>\n",
       "      <td>0</td>\n",
       "      <td>0</td>\n",
       "      <td>0</td>\n",
       "      <td>...</td>\n",
       "      <td>1.0</td>\n",
       "      <td>0.0</td>\n",
       "      <td>0.11</td>\n",
       "      <td>0.00</td>\n",
       "      <td>0.00</td>\n",
       "      <td>0.00</td>\n",
       "      <td>0.0</td>\n",
       "      <td>0.0</td>\n",
       "      <td>normal.</td>\n",
       "      <td>11</td>\n",
       "    </tr>\n",
       "    <tr>\n",
       "      <th>1</th>\n",
       "      <td>0</td>\n",
       "      <td>tcp</td>\n",
       "      <td>http</td>\n",
       "      <td>SF</td>\n",
       "      <td>239</td>\n",
       "      <td>486</td>\n",
       "      <td>0</td>\n",
       "      <td>0</td>\n",
       "      <td>0</td>\n",
       "      <td>0</td>\n",
       "      <td>...</td>\n",
       "      <td>1.0</td>\n",
       "      <td>0.0</td>\n",
       "      <td>0.05</td>\n",
       "      <td>0.00</td>\n",
       "      <td>0.00</td>\n",
       "      <td>0.00</td>\n",
       "      <td>0.0</td>\n",
       "      <td>0.0</td>\n",
       "      <td>normal.</td>\n",
       "      <td>11</td>\n",
       "    </tr>\n",
       "    <tr>\n",
       "      <th>2</th>\n",
       "      <td>0</td>\n",
       "      <td>tcp</td>\n",
       "      <td>http</td>\n",
       "      <td>SF</td>\n",
       "      <td>235</td>\n",
       "      <td>1337</td>\n",
       "      <td>0</td>\n",
       "      <td>0</td>\n",
       "      <td>0</td>\n",
       "      <td>0</td>\n",
       "      <td>...</td>\n",
       "      <td>1.0</td>\n",
       "      <td>0.0</td>\n",
       "      <td>0.03</td>\n",
       "      <td>0.00</td>\n",
       "      <td>0.00</td>\n",
       "      <td>0.00</td>\n",
       "      <td>0.0</td>\n",
       "      <td>0.0</td>\n",
       "      <td>normal.</td>\n",
       "      <td>11</td>\n",
       "    </tr>\n",
       "    <tr>\n",
       "      <th>3</th>\n",
       "      <td>0</td>\n",
       "      <td>tcp</td>\n",
       "      <td>http</td>\n",
       "      <td>SF</td>\n",
       "      <td>219</td>\n",
       "      <td>1337</td>\n",
       "      <td>0</td>\n",
       "      <td>0</td>\n",
       "      <td>0</td>\n",
       "      <td>0</td>\n",
       "      <td>...</td>\n",
       "      <td>1.0</td>\n",
       "      <td>0.0</td>\n",
       "      <td>0.03</td>\n",
       "      <td>0.00</td>\n",
       "      <td>0.00</td>\n",
       "      <td>0.00</td>\n",
       "      <td>0.0</td>\n",
       "      <td>0.0</td>\n",
       "      <td>normal.</td>\n",
       "      <td>11</td>\n",
       "    </tr>\n",
       "    <tr>\n",
       "      <th>4</th>\n",
       "      <td>0</td>\n",
       "      <td>tcp</td>\n",
       "      <td>http</td>\n",
       "      <td>SF</td>\n",
       "      <td>217</td>\n",
       "      <td>2032</td>\n",
       "      <td>0</td>\n",
       "      <td>0</td>\n",
       "      <td>0</td>\n",
       "      <td>0</td>\n",
       "      <td>...</td>\n",
       "      <td>1.0</td>\n",
       "      <td>0.0</td>\n",
       "      <td>0.02</td>\n",
       "      <td>0.00</td>\n",
       "      <td>0.00</td>\n",
       "      <td>0.00</td>\n",
       "      <td>0.0</td>\n",
       "      <td>0.0</td>\n",
       "      <td>normal.</td>\n",
       "      <td>11</td>\n",
       "    </tr>\n",
       "    <tr>\n",
       "      <th>...</th>\n",
       "      <td>...</td>\n",
       "      <td>...</td>\n",
       "      <td>...</td>\n",
       "      <td>...</td>\n",
       "      <td>...</td>\n",
       "      <td>...</td>\n",
       "      <td>...</td>\n",
       "      <td>...</td>\n",
       "      <td>...</td>\n",
       "      <td>...</td>\n",
       "      <td>...</td>\n",
       "      <td>...</td>\n",
       "      <td>...</td>\n",
       "      <td>...</td>\n",
       "      <td>...</td>\n",
       "      <td>...</td>\n",
       "      <td>...</td>\n",
       "      <td>...</td>\n",
       "      <td>...</td>\n",
       "      <td>...</td>\n",
       "      <td>...</td>\n",
       "    </tr>\n",
       "    <tr>\n",
       "      <th>494016</th>\n",
       "      <td>0</td>\n",
       "      <td>tcp</td>\n",
       "      <td>http</td>\n",
       "      <td>SF</td>\n",
       "      <td>310</td>\n",
       "      <td>1881</td>\n",
       "      <td>0</td>\n",
       "      <td>0</td>\n",
       "      <td>0</td>\n",
       "      <td>0</td>\n",
       "      <td>...</td>\n",
       "      <td>1.0</td>\n",
       "      <td>0.0</td>\n",
       "      <td>0.01</td>\n",
       "      <td>0.05</td>\n",
       "      <td>0.00</td>\n",
       "      <td>0.01</td>\n",
       "      <td>0.0</td>\n",
       "      <td>0.0</td>\n",
       "      <td>normal.</td>\n",
       "      <td>11</td>\n",
       "    </tr>\n",
       "    <tr>\n",
       "      <th>494017</th>\n",
       "      <td>0</td>\n",
       "      <td>tcp</td>\n",
       "      <td>http</td>\n",
       "      <td>SF</td>\n",
       "      <td>282</td>\n",
       "      <td>2286</td>\n",
       "      <td>0</td>\n",
       "      <td>0</td>\n",
       "      <td>0</td>\n",
       "      <td>0</td>\n",
       "      <td>...</td>\n",
       "      <td>1.0</td>\n",
       "      <td>0.0</td>\n",
       "      <td>0.17</td>\n",
       "      <td>0.05</td>\n",
       "      <td>0.00</td>\n",
       "      <td>0.01</td>\n",
       "      <td>0.0</td>\n",
       "      <td>0.0</td>\n",
       "      <td>normal.</td>\n",
       "      <td>11</td>\n",
       "    </tr>\n",
       "    <tr>\n",
       "      <th>494018</th>\n",
       "      <td>0</td>\n",
       "      <td>tcp</td>\n",
       "      <td>http</td>\n",
       "      <td>SF</td>\n",
       "      <td>203</td>\n",
       "      <td>1200</td>\n",
       "      <td>0</td>\n",
       "      <td>0</td>\n",
       "      <td>0</td>\n",
       "      <td>0</td>\n",
       "      <td>...</td>\n",
       "      <td>1.0</td>\n",
       "      <td>0.0</td>\n",
       "      <td>0.06</td>\n",
       "      <td>0.05</td>\n",
       "      <td>0.06</td>\n",
       "      <td>0.01</td>\n",
       "      <td>0.0</td>\n",
       "      <td>0.0</td>\n",
       "      <td>normal.</td>\n",
       "      <td>11</td>\n",
       "    </tr>\n",
       "    <tr>\n",
       "      <th>494019</th>\n",
       "      <td>0</td>\n",
       "      <td>tcp</td>\n",
       "      <td>http</td>\n",
       "      <td>SF</td>\n",
       "      <td>291</td>\n",
       "      <td>1200</td>\n",
       "      <td>0</td>\n",
       "      <td>0</td>\n",
       "      <td>0</td>\n",
       "      <td>0</td>\n",
       "      <td>...</td>\n",
       "      <td>1.0</td>\n",
       "      <td>0.0</td>\n",
       "      <td>0.04</td>\n",
       "      <td>0.05</td>\n",
       "      <td>0.04</td>\n",
       "      <td>0.01</td>\n",
       "      <td>0.0</td>\n",
       "      <td>0.0</td>\n",
       "      <td>normal.</td>\n",
       "      <td>11</td>\n",
       "    </tr>\n",
       "    <tr>\n",
       "      <th>494020</th>\n",
       "      <td>0</td>\n",
       "      <td>tcp</td>\n",
       "      <td>http</td>\n",
       "      <td>SF</td>\n",
       "      <td>219</td>\n",
       "      <td>1234</td>\n",
       "      <td>0</td>\n",
       "      <td>0</td>\n",
       "      <td>0</td>\n",
       "      <td>0</td>\n",
       "      <td>...</td>\n",
       "      <td>1.0</td>\n",
       "      <td>0.0</td>\n",
       "      <td>0.17</td>\n",
       "      <td>0.05</td>\n",
       "      <td>0.00</td>\n",
       "      <td>0.01</td>\n",
       "      <td>0.0</td>\n",
       "      <td>0.0</td>\n",
       "      <td>normal.</td>\n",
       "      <td>11</td>\n",
       "    </tr>\n",
       "  </tbody>\n",
       "</table>\n",
       "<p>494021 rows × 43 columns</p>\n",
       "</div>"
      ]
     },
     "execution_count": 7,
     "metadata": {},
     "output_type": "execute_result"
    }
   ],
   "execution_count": 7
  },
  {
   "cell_type": "code",
   "metadata": {
    "execution": {
     "iopub.status.busy": "2021-12-22T12:30:33.518456Z",
     "iopub.status.idle": "2021-12-22T12:30:33.519221Z"
    },
    "ExecuteTime": {
     "end_time": "2024-12-06T07:36:22.572518Z",
     "start_time": "2024-12-06T07:36:22.402971Z"
    }
   },
   "source": [
    "#添加大类标签，共五大类\n",
    "df['attack_type'] = df.target.apply(lambda r:attacks_types[r[:-1]])\n",
    "df.head()"
   ],
   "outputs": [
    {
     "data": {
      "text/plain": [
       "   duration protocol_type service flag  src_bytes  dst_bytes  land  \\\n",
       "0         0           tcp    http   SF        181       5450     0   \n",
       "1         0           tcp    http   SF        239        486     0   \n",
       "2         0           tcp    http   SF        235       1337     0   \n",
       "3         0           tcp    http   SF        219       1337     0   \n",
       "4         0           tcp    http   SF        217       2032     0   \n",
       "\n",
       "   wrong_fragment  urgent  hot  ...  dst_host_diff_srv_rate  \\\n",
       "0               0       0    0  ...                     0.0   \n",
       "1               0       0    0  ...                     0.0   \n",
       "2               0       0    0  ...                     0.0   \n",
       "3               0       0    0  ...                     0.0   \n",
       "4               0       0    0  ...                     0.0   \n",
       "\n",
       "   dst_host_same_src_port_rate  dst_host_srv_diff_host_rate  \\\n",
       "0                         0.11                          0.0   \n",
       "1                         0.05                          0.0   \n",
       "2                         0.03                          0.0   \n",
       "3                         0.03                          0.0   \n",
       "4                         0.02                          0.0   \n",
       "\n",
       "   dst_host_serror_rate  dst_host_srv_serror_rate  dst_host_rerror_rate  \\\n",
       "0                   0.0                       0.0                   0.0   \n",
       "1                   0.0                       0.0                   0.0   \n",
       "2                   0.0                       0.0                   0.0   \n",
       "3                   0.0                       0.0                   0.0   \n",
       "4                   0.0                       0.0                   0.0   \n",
       "\n",
       "   dst_host_srv_rerror_rate   target  target_digit  attack_type  \n",
       "0                       0.0  normal.            11       normal  \n",
       "1                       0.0  normal.            11       normal  \n",
       "2                       0.0  normal.            11       normal  \n",
       "3                       0.0  normal.            11       normal  \n",
       "4                       0.0  normal.            11       normal  \n",
       "\n",
       "[5 rows x 44 columns]"
      ],
      "text/html": [
       "<div>\n",
       "<style scoped>\n",
       "    .dataframe tbody tr th:only-of-type {\n",
       "        vertical-align: middle;\n",
       "    }\n",
       "\n",
       "    .dataframe tbody tr th {\n",
       "        vertical-align: top;\n",
       "    }\n",
       "\n",
       "    .dataframe thead th {\n",
       "        text-align: right;\n",
       "    }\n",
       "</style>\n",
       "<table border=\"1\" class=\"dataframe\">\n",
       "  <thead>\n",
       "    <tr style=\"text-align: right;\">\n",
       "      <th></th>\n",
       "      <th>duration</th>\n",
       "      <th>protocol_type</th>\n",
       "      <th>service</th>\n",
       "      <th>flag</th>\n",
       "      <th>src_bytes</th>\n",
       "      <th>dst_bytes</th>\n",
       "      <th>land</th>\n",
       "      <th>wrong_fragment</th>\n",
       "      <th>urgent</th>\n",
       "      <th>hot</th>\n",
       "      <th>...</th>\n",
       "      <th>dst_host_diff_srv_rate</th>\n",
       "      <th>dst_host_same_src_port_rate</th>\n",
       "      <th>dst_host_srv_diff_host_rate</th>\n",
       "      <th>dst_host_serror_rate</th>\n",
       "      <th>dst_host_srv_serror_rate</th>\n",
       "      <th>dst_host_rerror_rate</th>\n",
       "      <th>dst_host_srv_rerror_rate</th>\n",
       "      <th>target</th>\n",
       "      <th>target_digit</th>\n",
       "      <th>attack_type</th>\n",
       "    </tr>\n",
       "  </thead>\n",
       "  <tbody>\n",
       "    <tr>\n",
       "      <th>0</th>\n",
       "      <td>0</td>\n",
       "      <td>tcp</td>\n",
       "      <td>http</td>\n",
       "      <td>SF</td>\n",
       "      <td>181</td>\n",
       "      <td>5450</td>\n",
       "      <td>0</td>\n",
       "      <td>0</td>\n",
       "      <td>0</td>\n",
       "      <td>0</td>\n",
       "      <td>...</td>\n",
       "      <td>0.0</td>\n",
       "      <td>0.11</td>\n",
       "      <td>0.0</td>\n",
       "      <td>0.0</td>\n",
       "      <td>0.0</td>\n",
       "      <td>0.0</td>\n",
       "      <td>0.0</td>\n",
       "      <td>normal.</td>\n",
       "      <td>11</td>\n",
       "      <td>normal</td>\n",
       "    </tr>\n",
       "    <tr>\n",
       "      <th>1</th>\n",
       "      <td>0</td>\n",
       "      <td>tcp</td>\n",
       "      <td>http</td>\n",
       "      <td>SF</td>\n",
       "      <td>239</td>\n",
       "      <td>486</td>\n",
       "      <td>0</td>\n",
       "      <td>0</td>\n",
       "      <td>0</td>\n",
       "      <td>0</td>\n",
       "      <td>...</td>\n",
       "      <td>0.0</td>\n",
       "      <td>0.05</td>\n",
       "      <td>0.0</td>\n",
       "      <td>0.0</td>\n",
       "      <td>0.0</td>\n",
       "      <td>0.0</td>\n",
       "      <td>0.0</td>\n",
       "      <td>normal.</td>\n",
       "      <td>11</td>\n",
       "      <td>normal</td>\n",
       "    </tr>\n",
       "    <tr>\n",
       "      <th>2</th>\n",
       "      <td>0</td>\n",
       "      <td>tcp</td>\n",
       "      <td>http</td>\n",
       "      <td>SF</td>\n",
       "      <td>235</td>\n",
       "      <td>1337</td>\n",
       "      <td>0</td>\n",
       "      <td>0</td>\n",
       "      <td>0</td>\n",
       "      <td>0</td>\n",
       "      <td>...</td>\n",
       "      <td>0.0</td>\n",
       "      <td>0.03</td>\n",
       "      <td>0.0</td>\n",
       "      <td>0.0</td>\n",
       "      <td>0.0</td>\n",
       "      <td>0.0</td>\n",
       "      <td>0.0</td>\n",
       "      <td>normal.</td>\n",
       "      <td>11</td>\n",
       "      <td>normal</td>\n",
       "    </tr>\n",
       "    <tr>\n",
       "      <th>3</th>\n",
       "      <td>0</td>\n",
       "      <td>tcp</td>\n",
       "      <td>http</td>\n",
       "      <td>SF</td>\n",
       "      <td>219</td>\n",
       "      <td>1337</td>\n",
       "      <td>0</td>\n",
       "      <td>0</td>\n",
       "      <td>0</td>\n",
       "      <td>0</td>\n",
       "      <td>...</td>\n",
       "      <td>0.0</td>\n",
       "      <td>0.03</td>\n",
       "      <td>0.0</td>\n",
       "      <td>0.0</td>\n",
       "      <td>0.0</td>\n",
       "      <td>0.0</td>\n",
       "      <td>0.0</td>\n",
       "      <td>normal.</td>\n",
       "      <td>11</td>\n",
       "      <td>normal</td>\n",
       "    </tr>\n",
       "    <tr>\n",
       "      <th>4</th>\n",
       "      <td>0</td>\n",
       "      <td>tcp</td>\n",
       "      <td>http</td>\n",
       "      <td>SF</td>\n",
       "      <td>217</td>\n",
       "      <td>2032</td>\n",
       "      <td>0</td>\n",
       "      <td>0</td>\n",
       "      <td>0</td>\n",
       "      <td>0</td>\n",
       "      <td>...</td>\n",
       "      <td>0.0</td>\n",
       "      <td>0.02</td>\n",
       "      <td>0.0</td>\n",
       "      <td>0.0</td>\n",
       "      <td>0.0</td>\n",
       "      <td>0.0</td>\n",
       "      <td>0.0</td>\n",
       "      <td>normal.</td>\n",
       "      <td>11</td>\n",
       "      <td>normal</td>\n",
       "    </tr>\n",
       "  </tbody>\n",
       "</table>\n",
       "<p>5 rows × 44 columns</p>\n",
       "</div>"
      ]
     },
     "execution_count": 8,
     "metadata": {},
     "output_type": "execute_result"
    }
   ],
   "execution_count": 8
  },
  {
   "cell_type": "code",
   "metadata": {
    "ExecuteTime": {
     "end_time": "2024-12-06T07:36:22.857784Z",
     "start_time": "2024-12-06T07:36:22.574512Z"
    }
   },
   "source": [
    "target2=df[\"attack_type\"]\n",
    "le = preprocessing.LabelEncoder()\n",
    "#小类标签数字化\n",
    "labels_5_category =le.fit_transform(target2).astype(np.int64)\n",
    "df[\"attack_type_digit\"]=labels_5_category\n",
    "df"
   ],
   "outputs": [
    {
     "data": {
      "text/plain": [
       "        duration protocol_type service flag  src_bytes  dst_bytes  land  \\\n",
       "0              0           tcp    http   SF        181       5450     0   \n",
       "1              0           tcp    http   SF        239        486     0   \n",
       "2              0           tcp    http   SF        235       1337     0   \n",
       "3              0           tcp    http   SF        219       1337     0   \n",
       "4              0           tcp    http   SF        217       2032     0   \n",
       "...          ...           ...     ...  ...        ...        ...   ...   \n",
       "494016         0           tcp    http   SF        310       1881     0   \n",
       "494017         0           tcp    http   SF        282       2286     0   \n",
       "494018         0           tcp    http   SF        203       1200     0   \n",
       "494019         0           tcp    http   SF        291       1200     0   \n",
       "494020         0           tcp    http   SF        219       1234     0   \n",
       "\n",
       "        wrong_fragment  urgent  hot  ...  dst_host_same_src_port_rate  \\\n",
       "0                    0       0    0  ...                         0.11   \n",
       "1                    0       0    0  ...                         0.05   \n",
       "2                    0       0    0  ...                         0.03   \n",
       "3                    0       0    0  ...                         0.03   \n",
       "4                    0       0    0  ...                         0.02   \n",
       "...                ...     ...  ...  ...                          ...   \n",
       "494016               0       0    0  ...                         0.01   \n",
       "494017               0       0    0  ...                         0.17   \n",
       "494018               0       0    0  ...                         0.06   \n",
       "494019               0       0    0  ...                         0.04   \n",
       "494020               0       0    0  ...                         0.17   \n",
       "\n",
       "        dst_host_srv_diff_host_rate  dst_host_serror_rate  \\\n",
       "0                              0.00                  0.00   \n",
       "1                              0.00                  0.00   \n",
       "2                              0.00                  0.00   \n",
       "3                              0.00                  0.00   \n",
       "4                              0.00                  0.00   \n",
       "...                             ...                   ...   \n",
       "494016                         0.05                  0.00   \n",
       "494017                         0.05                  0.00   \n",
       "494018                         0.05                  0.06   \n",
       "494019                         0.05                  0.04   \n",
       "494020                         0.05                  0.00   \n",
       "\n",
       "        dst_host_srv_serror_rate  dst_host_rerror_rate  \\\n",
       "0                           0.00                   0.0   \n",
       "1                           0.00                   0.0   \n",
       "2                           0.00                   0.0   \n",
       "3                           0.00                   0.0   \n",
       "4                           0.00                   0.0   \n",
       "...                          ...                   ...   \n",
       "494016                      0.01                   0.0   \n",
       "494017                      0.01                   0.0   \n",
       "494018                      0.01                   0.0   \n",
       "494019                      0.01                   0.0   \n",
       "494020                      0.01                   0.0   \n",
       "\n",
       "        dst_host_srv_rerror_rate   target  target_digit  attack_type  \\\n",
       "0                            0.0  normal.            11       normal   \n",
       "1                            0.0  normal.            11       normal   \n",
       "2                            0.0  normal.            11       normal   \n",
       "3                            0.0  normal.            11       normal   \n",
       "4                            0.0  normal.            11       normal   \n",
       "...                          ...      ...           ...          ...   \n",
       "494016                       0.0  normal.            11       normal   \n",
       "494017                       0.0  normal.            11       normal   \n",
       "494018                       0.0  normal.            11       normal   \n",
       "494019                       0.0  normal.            11       normal   \n",
       "494020                       0.0  normal.            11       normal   \n",
       "\n",
       "        attack_type_digit  \n",
       "0                       1  \n",
       "1                       1  \n",
       "2                       1  \n",
       "3                       1  \n",
       "4                       1  \n",
       "...                   ...  \n",
       "494016                  1  \n",
       "494017                  1  \n",
       "494018                  1  \n",
       "494019                  1  \n",
       "494020                  1  \n",
       "\n",
       "[494021 rows x 45 columns]"
      ],
      "text/html": [
       "<div>\n",
       "<style scoped>\n",
       "    .dataframe tbody tr th:only-of-type {\n",
       "        vertical-align: middle;\n",
       "    }\n",
       "\n",
       "    .dataframe tbody tr th {\n",
       "        vertical-align: top;\n",
       "    }\n",
       "\n",
       "    .dataframe thead th {\n",
       "        text-align: right;\n",
       "    }\n",
       "</style>\n",
       "<table border=\"1\" class=\"dataframe\">\n",
       "  <thead>\n",
       "    <tr style=\"text-align: right;\">\n",
       "      <th></th>\n",
       "      <th>duration</th>\n",
       "      <th>protocol_type</th>\n",
       "      <th>service</th>\n",
       "      <th>flag</th>\n",
       "      <th>src_bytes</th>\n",
       "      <th>dst_bytes</th>\n",
       "      <th>land</th>\n",
       "      <th>wrong_fragment</th>\n",
       "      <th>urgent</th>\n",
       "      <th>hot</th>\n",
       "      <th>...</th>\n",
       "      <th>dst_host_same_src_port_rate</th>\n",
       "      <th>dst_host_srv_diff_host_rate</th>\n",
       "      <th>dst_host_serror_rate</th>\n",
       "      <th>dst_host_srv_serror_rate</th>\n",
       "      <th>dst_host_rerror_rate</th>\n",
       "      <th>dst_host_srv_rerror_rate</th>\n",
       "      <th>target</th>\n",
       "      <th>target_digit</th>\n",
       "      <th>attack_type</th>\n",
       "      <th>attack_type_digit</th>\n",
       "    </tr>\n",
       "  </thead>\n",
       "  <tbody>\n",
       "    <tr>\n",
       "      <th>0</th>\n",
       "      <td>0</td>\n",
       "      <td>tcp</td>\n",
       "      <td>http</td>\n",
       "      <td>SF</td>\n",
       "      <td>181</td>\n",
       "      <td>5450</td>\n",
       "      <td>0</td>\n",
       "      <td>0</td>\n",
       "      <td>0</td>\n",
       "      <td>0</td>\n",
       "      <td>...</td>\n",
       "      <td>0.11</td>\n",
       "      <td>0.00</td>\n",
       "      <td>0.00</td>\n",
       "      <td>0.00</td>\n",
       "      <td>0.0</td>\n",
       "      <td>0.0</td>\n",
       "      <td>normal.</td>\n",
       "      <td>11</td>\n",
       "      <td>normal</td>\n",
       "      <td>1</td>\n",
       "    </tr>\n",
       "    <tr>\n",
       "      <th>1</th>\n",
       "      <td>0</td>\n",
       "      <td>tcp</td>\n",
       "      <td>http</td>\n",
       "      <td>SF</td>\n",
       "      <td>239</td>\n",
       "      <td>486</td>\n",
       "      <td>0</td>\n",
       "      <td>0</td>\n",
       "      <td>0</td>\n",
       "      <td>0</td>\n",
       "      <td>...</td>\n",
       "      <td>0.05</td>\n",
       "      <td>0.00</td>\n",
       "      <td>0.00</td>\n",
       "      <td>0.00</td>\n",
       "      <td>0.0</td>\n",
       "      <td>0.0</td>\n",
       "      <td>normal.</td>\n",
       "      <td>11</td>\n",
       "      <td>normal</td>\n",
       "      <td>1</td>\n",
       "    </tr>\n",
       "    <tr>\n",
       "      <th>2</th>\n",
       "      <td>0</td>\n",
       "      <td>tcp</td>\n",
       "      <td>http</td>\n",
       "      <td>SF</td>\n",
       "      <td>235</td>\n",
       "      <td>1337</td>\n",
       "      <td>0</td>\n",
       "      <td>0</td>\n",
       "      <td>0</td>\n",
       "      <td>0</td>\n",
       "      <td>...</td>\n",
       "      <td>0.03</td>\n",
       "      <td>0.00</td>\n",
       "      <td>0.00</td>\n",
       "      <td>0.00</td>\n",
       "      <td>0.0</td>\n",
       "      <td>0.0</td>\n",
       "      <td>normal.</td>\n",
       "      <td>11</td>\n",
       "      <td>normal</td>\n",
       "      <td>1</td>\n",
       "    </tr>\n",
       "    <tr>\n",
       "      <th>3</th>\n",
       "      <td>0</td>\n",
       "      <td>tcp</td>\n",
       "      <td>http</td>\n",
       "      <td>SF</td>\n",
       "      <td>219</td>\n",
       "      <td>1337</td>\n",
       "      <td>0</td>\n",
       "      <td>0</td>\n",
       "      <td>0</td>\n",
       "      <td>0</td>\n",
       "      <td>...</td>\n",
       "      <td>0.03</td>\n",
       "      <td>0.00</td>\n",
       "      <td>0.00</td>\n",
       "      <td>0.00</td>\n",
       "      <td>0.0</td>\n",
       "      <td>0.0</td>\n",
       "      <td>normal.</td>\n",
       "      <td>11</td>\n",
       "      <td>normal</td>\n",
       "      <td>1</td>\n",
       "    </tr>\n",
       "    <tr>\n",
       "      <th>4</th>\n",
       "      <td>0</td>\n",
       "      <td>tcp</td>\n",
       "      <td>http</td>\n",
       "      <td>SF</td>\n",
       "      <td>217</td>\n",
       "      <td>2032</td>\n",
       "      <td>0</td>\n",
       "      <td>0</td>\n",
       "      <td>0</td>\n",
       "      <td>0</td>\n",
       "      <td>...</td>\n",
       "      <td>0.02</td>\n",
       "      <td>0.00</td>\n",
       "      <td>0.00</td>\n",
       "      <td>0.00</td>\n",
       "      <td>0.0</td>\n",
       "      <td>0.0</td>\n",
       "      <td>normal.</td>\n",
       "      <td>11</td>\n",
       "      <td>normal</td>\n",
       "      <td>1</td>\n",
       "    </tr>\n",
       "    <tr>\n",
       "      <th>...</th>\n",
       "      <td>...</td>\n",
       "      <td>...</td>\n",
       "      <td>...</td>\n",
       "      <td>...</td>\n",
       "      <td>...</td>\n",
       "      <td>...</td>\n",
       "      <td>...</td>\n",
       "      <td>...</td>\n",
       "      <td>...</td>\n",
       "      <td>...</td>\n",
       "      <td>...</td>\n",
       "      <td>...</td>\n",
       "      <td>...</td>\n",
       "      <td>...</td>\n",
       "      <td>...</td>\n",
       "      <td>...</td>\n",
       "      <td>...</td>\n",
       "      <td>...</td>\n",
       "      <td>...</td>\n",
       "      <td>...</td>\n",
       "      <td>...</td>\n",
       "    </tr>\n",
       "    <tr>\n",
       "      <th>494016</th>\n",
       "      <td>0</td>\n",
       "      <td>tcp</td>\n",
       "      <td>http</td>\n",
       "      <td>SF</td>\n",
       "      <td>310</td>\n",
       "      <td>1881</td>\n",
       "      <td>0</td>\n",
       "      <td>0</td>\n",
       "      <td>0</td>\n",
       "      <td>0</td>\n",
       "      <td>...</td>\n",
       "      <td>0.01</td>\n",
       "      <td>0.05</td>\n",
       "      <td>0.00</td>\n",
       "      <td>0.01</td>\n",
       "      <td>0.0</td>\n",
       "      <td>0.0</td>\n",
       "      <td>normal.</td>\n",
       "      <td>11</td>\n",
       "      <td>normal</td>\n",
       "      <td>1</td>\n",
       "    </tr>\n",
       "    <tr>\n",
       "      <th>494017</th>\n",
       "      <td>0</td>\n",
       "      <td>tcp</td>\n",
       "      <td>http</td>\n",
       "      <td>SF</td>\n",
       "      <td>282</td>\n",
       "      <td>2286</td>\n",
       "      <td>0</td>\n",
       "      <td>0</td>\n",
       "      <td>0</td>\n",
       "      <td>0</td>\n",
       "      <td>...</td>\n",
       "      <td>0.17</td>\n",
       "      <td>0.05</td>\n",
       "      <td>0.00</td>\n",
       "      <td>0.01</td>\n",
       "      <td>0.0</td>\n",
       "      <td>0.0</td>\n",
       "      <td>normal.</td>\n",
       "      <td>11</td>\n",
       "      <td>normal</td>\n",
       "      <td>1</td>\n",
       "    </tr>\n",
       "    <tr>\n",
       "      <th>494018</th>\n",
       "      <td>0</td>\n",
       "      <td>tcp</td>\n",
       "      <td>http</td>\n",
       "      <td>SF</td>\n",
       "      <td>203</td>\n",
       "      <td>1200</td>\n",
       "      <td>0</td>\n",
       "      <td>0</td>\n",
       "      <td>0</td>\n",
       "      <td>0</td>\n",
       "      <td>...</td>\n",
       "      <td>0.06</td>\n",
       "      <td>0.05</td>\n",
       "      <td>0.06</td>\n",
       "      <td>0.01</td>\n",
       "      <td>0.0</td>\n",
       "      <td>0.0</td>\n",
       "      <td>normal.</td>\n",
       "      <td>11</td>\n",
       "      <td>normal</td>\n",
       "      <td>1</td>\n",
       "    </tr>\n",
       "    <tr>\n",
       "      <th>494019</th>\n",
       "      <td>0</td>\n",
       "      <td>tcp</td>\n",
       "      <td>http</td>\n",
       "      <td>SF</td>\n",
       "      <td>291</td>\n",
       "      <td>1200</td>\n",
       "      <td>0</td>\n",
       "      <td>0</td>\n",
       "      <td>0</td>\n",
       "      <td>0</td>\n",
       "      <td>...</td>\n",
       "      <td>0.04</td>\n",
       "      <td>0.05</td>\n",
       "      <td>0.04</td>\n",
       "      <td>0.01</td>\n",
       "      <td>0.0</td>\n",
       "      <td>0.0</td>\n",
       "      <td>normal.</td>\n",
       "      <td>11</td>\n",
       "      <td>normal</td>\n",
       "      <td>1</td>\n",
       "    </tr>\n",
       "    <tr>\n",
       "      <th>494020</th>\n",
       "      <td>0</td>\n",
       "      <td>tcp</td>\n",
       "      <td>http</td>\n",
       "      <td>SF</td>\n",
       "      <td>219</td>\n",
       "      <td>1234</td>\n",
       "      <td>0</td>\n",
       "      <td>0</td>\n",
       "      <td>0</td>\n",
       "      <td>0</td>\n",
       "      <td>...</td>\n",
       "      <td>0.17</td>\n",
       "      <td>0.05</td>\n",
       "      <td>0.00</td>\n",
       "      <td>0.01</td>\n",
       "      <td>0.0</td>\n",
       "      <td>0.0</td>\n",
       "      <td>normal.</td>\n",
       "      <td>11</td>\n",
       "      <td>normal</td>\n",
       "      <td>1</td>\n",
       "    </tr>\n",
       "  </tbody>\n",
       "</table>\n",
       "<p>494021 rows × 45 columns</p>\n",
       "</div>"
      ]
     },
     "execution_count": 9,
     "metadata": {},
     "output_type": "execute_result"
    }
   ],
   "execution_count": 9
  },
  {
   "cell_type": "code",
   "metadata": {
    "ExecuteTime": {
     "end_time": "2024-12-06T07:36:22.889669Z",
     "start_time": "2024-12-06T07:36:22.862742Z"
    }
   },
   "source": [
    "#保留这个数据，后面用于合并到处理后的数据中保存\n",
    "labels=df[['target','target_digit','attack_type','attack_type_digit']]\n",
    "labels\n"
   ],
   "outputs": [
    {
     "data": {
      "text/plain": [
       "         target  target_digit attack_type  attack_type_digit\n",
       "0       normal.            11      normal                  1\n",
       "1       normal.            11      normal                  1\n",
       "2       normal.            11      normal                  1\n",
       "3       normal.            11      normal                  1\n",
       "4       normal.            11      normal                  1\n",
       "...         ...           ...         ...                ...\n",
       "494016  normal.            11      normal                  1\n",
       "494017  normal.            11      normal                  1\n",
       "494018  normal.            11      normal                  1\n",
       "494019  normal.            11      normal                  1\n",
       "494020  normal.            11      normal                  1\n",
       "\n",
       "[494021 rows x 4 columns]"
      ],
      "text/html": [
       "<div>\n",
       "<style scoped>\n",
       "    .dataframe tbody tr th:only-of-type {\n",
       "        vertical-align: middle;\n",
       "    }\n",
       "\n",
       "    .dataframe tbody tr th {\n",
       "        vertical-align: top;\n",
       "    }\n",
       "\n",
       "    .dataframe thead th {\n",
       "        text-align: right;\n",
       "    }\n",
       "</style>\n",
       "<table border=\"1\" class=\"dataframe\">\n",
       "  <thead>\n",
       "    <tr style=\"text-align: right;\">\n",
       "      <th></th>\n",
       "      <th>target</th>\n",
       "      <th>target_digit</th>\n",
       "      <th>attack_type</th>\n",
       "      <th>attack_type_digit</th>\n",
       "    </tr>\n",
       "  </thead>\n",
       "  <tbody>\n",
       "    <tr>\n",
       "      <th>0</th>\n",
       "      <td>normal.</td>\n",
       "      <td>11</td>\n",
       "      <td>normal</td>\n",
       "      <td>1</td>\n",
       "    </tr>\n",
       "    <tr>\n",
       "      <th>1</th>\n",
       "      <td>normal.</td>\n",
       "      <td>11</td>\n",
       "      <td>normal</td>\n",
       "      <td>1</td>\n",
       "    </tr>\n",
       "    <tr>\n",
       "      <th>2</th>\n",
       "      <td>normal.</td>\n",
       "      <td>11</td>\n",
       "      <td>normal</td>\n",
       "      <td>1</td>\n",
       "    </tr>\n",
       "    <tr>\n",
       "      <th>3</th>\n",
       "      <td>normal.</td>\n",
       "      <td>11</td>\n",
       "      <td>normal</td>\n",
       "      <td>1</td>\n",
       "    </tr>\n",
       "    <tr>\n",
       "      <th>4</th>\n",
       "      <td>normal.</td>\n",
       "      <td>11</td>\n",
       "      <td>normal</td>\n",
       "      <td>1</td>\n",
       "    </tr>\n",
       "    <tr>\n",
       "      <th>...</th>\n",
       "      <td>...</td>\n",
       "      <td>...</td>\n",
       "      <td>...</td>\n",
       "      <td>...</td>\n",
       "    </tr>\n",
       "    <tr>\n",
       "      <th>494016</th>\n",
       "      <td>normal.</td>\n",
       "      <td>11</td>\n",
       "      <td>normal</td>\n",
       "      <td>1</td>\n",
       "    </tr>\n",
       "    <tr>\n",
       "      <th>494017</th>\n",
       "      <td>normal.</td>\n",
       "      <td>11</td>\n",
       "      <td>normal</td>\n",
       "      <td>1</td>\n",
       "    </tr>\n",
       "    <tr>\n",
       "      <th>494018</th>\n",
       "      <td>normal.</td>\n",
       "      <td>11</td>\n",
       "      <td>normal</td>\n",
       "      <td>1</td>\n",
       "    </tr>\n",
       "    <tr>\n",
       "      <th>494019</th>\n",
       "      <td>normal.</td>\n",
       "      <td>11</td>\n",
       "      <td>normal</td>\n",
       "      <td>1</td>\n",
       "    </tr>\n",
       "    <tr>\n",
       "      <th>494020</th>\n",
       "      <td>normal.</td>\n",
       "      <td>11</td>\n",
       "      <td>normal</td>\n",
       "      <td>1</td>\n",
       "    </tr>\n",
       "  </tbody>\n",
       "</table>\n",
       "<p>494021 rows × 4 columns</p>\n",
       "</div>"
      ]
     },
     "execution_count": 10,
     "metadata": {},
     "output_type": "execute_result"
    }
   ],
   "execution_count": 10
  },
  {
   "cell_type": "code",
   "metadata": {
    "ExecuteTime": {
     "end_time": "2024-12-06T07:36:23.158950Z",
     "start_time": "2024-12-06T07:36:22.891664Z"
    }
   },
   "source": [
    "df.drop(columns=['target_digit', 'attack_type_digit'],inplace=True)\n",
    "df"
   ],
   "outputs": [
    {
     "data": {
      "text/plain": [
       "        duration protocol_type service flag  src_bytes  dst_bytes  land  \\\n",
       "0              0           tcp    http   SF        181       5450     0   \n",
       "1              0           tcp    http   SF        239        486     0   \n",
       "2              0           tcp    http   SF        235       1337     0   \n",
       "3              0           tcp    http   SF        219       1337     0   \n",
       "4              0           tcp    http   SF        217       2032     0   \n",
       "...          ...           ...     ...  ...        ...        ...   ...   \n",
       "494016         0           tcp    http   SF        310       1881     0   \n",
       "494017         0           tcp    http   SF        282       2286     0   \n",
       "494018         0           tcp    http   SF        203       1200     0   \n",
       "494019         0           tcp    http   SF        291       1200     0   \n",
       "494020         0           tcp    http   SF        219       1234     0   \n",
       "\n",
       "        wrong_fragment  urgent  hot  ...  dst_host_same_srv_rate  \\\n",
       "0                    0       0    0  ...                     1.0   \n",
       "1                    0       0    0  ...                     1.0   \n",
       "2                    0       0    0  ...                     1.0   \n",
       "3                    0       0    0  ...                     1.0   \n",
       "4                    0       0    0  ...                     1.0   \n",
       "...                ...     ...  ...  ...                     ...   \n",
       "494016               0       0    0  ...                     1.0   \n",
       "494017               0       0    0  ...                     1.0   \n",
       "494018               0       0    0  ...                     1.0   \n",
       "494019               0       0    0  ...                     1.0   \n",
       "494020               0       0    0  ...                     1.0   \n",
       "\n",
       "        dst_host_diff_srv_rate  dst_host_same_src_port_rate  \\\n",
       "0                          0.0                         0.11   \n",
       "1                          0.0                         0.05   \n",
       "2                          0.0                         0.03   \n",
       "3                          0.0                         0.03   \n",
       "4                          0.0                         0.02   \n",
       "...                        ...                          ...   \n",
       "494016                     0.0                         0.01   \n",
       "494017                     0.0                         0.17   \n",
       "494018                     0.0                         0.06   \n",
       "494019                     0.0                         0.04   \n",
       "494020                     0.0                         0.17   \n",
       "\n",
       "        dst_host_srv_diff_host_rate  dst_host_serror_rate  \\\n",
       "0                              0.00                  0.00   \n",
       "1                              0.00                  0.00   \n",
       "2                              0.00                  0.00   \n",
       "3                              0.00                  0.00   \n",
       "4                              0.00                  0.00   \n",
       "...                             ...                   ...   \n",
       "494016                         0.05                  0.00   \n",
       "494017                         0.05                  0.00   \n",
       "494018                         0.05                  0.06   \n",
       "494019                         0.05                  0.04   \n",
       "494020                         0.05                  0.00   \n",
       "\n",
       "        dst_host_srv_serror_rate  dst_host_rerror_rate  \\\n",
       "0                           0.00                   0.0   \n",
       "1                           0.00                   0.0   \n",
       "2                           0.00                   0.0   \n",
       "3                           0.00                   0.0   \n",
       "4                           0.00                   0.0   \n",
       "...                          ...                   ...   \n",
       "494016                      0.01                   0.0   \n",
       "494017                      0.01                   0.0   \n",
       "494018                      0.01                   0.0   \n",
       "494019                      0.01                   0.0   \n",
       "494020                      0.01                   0.0   \n",
       "\n",
       "        dst_host_srv_rerror_rate   target  attack_type  \n",
       "0                            0.0  normal.       normal  \n",
       "1                            0.0  normal.       normal  \n",
       "2                            0.0  normal.       normal  \n",
       "3                            0.0  normal.       normal  \n",
       "4                            0.0  normal.       normal  \n",
       "...                          ...      ...          ...  \n",
       "494016                       0.0  normal.       normal  \n",
       "494017                       0.0  normal.       normal  \n",
       "494018                       0.0  normal.       normal  \n",
       "494019                       0.0  normal.       normal  \n",
       "494020                       0.0  normal.       normal  \n",
       "\n",
       "[494021 rows x 43 columns]"
      ],
      "text/html": [
       "<div>\n",
       "<style scoped>\n",
       "    .dataframe tbody tr th:only-of-type {\n",
       "        vertical-align: middle;\n",
       "    }\n",
       "\n",
       "    .dataframe tbody tr th {\n",
       "        vertical-align: top;\n",
       "    }\n",
       "\n",
       "    .dataframe thead th {\n",
       "        text-align: right;\n",
       "    }\n",
       "</style>\n",
       "<table border=\"1\" class=\"dataframe\">\n",
       "  <thead>\n",
       "    <tr style=\"text-align: right;\">\n",
       "      <th></th>\n",
       "      <th>duration</th>\n",
       "      <th>protocol_type</th>\n",
       "      <th>service</th>\n",
       "      <th>flag</th>\n",
       "      <th>src_bytes</th>\n",
       "      <th>dst_bytes</th>\n",
       "      <th>land</th>\n",
       "      <th>wrong_fragment</th>\n",
       "      <th>urgent</th>\n",
       "      <th>hot</th>\n",
       "      <th>...</th>\n",
       "      <th>dst_host_same_srv_rate</th>\n",
       "      <th>dst_host_diff_srv_rate</th>\n",
       "      <th>dst_host_same_src_port_rate</th>\n",
       "      <th>dst_host_srv_diff_host_rate</th>\n",
       "      <th>dst_host_serror_rate</th>\n",
       "      <th>dst_host_srv_serror_rate</th>\n",
       "      <th>dst_host_rerror_rate</th>\n",
       "      <th>dst_host_srv_rerror_rate</th>\n",
       "      <th>target</th>\n",
       "      <th>attack_type</th>\n",
       "    </tr>\n",
       "  </thead>\n",
       "  <tbody>\n",
       "    <tr>\n",
       "      <th>0</th>\n",
       "      <td>0</td>\n",
       "      <td>tcp</td>\n",
       "      <td>http</td>\n",
       "      <td>SF</td>\n",
       "      <td>181</td>\n",
       "      <td>5450</td>\n",
       "      <td>0</td>\n",
       "      <td>0</td>\n",
       "      <td>0</td>\n",
       "      <td>0</td>\n",
       "      <td>...</td>\n",
       "      <td>1.0</td>\n",
       "      <td>0.0</td>\n",
       "      <td>0.11</td>\n",
       "      <td>0.00</td>\n",
       "      <td>0.00</td>\n",
       "      <td>0.00</td>\n",
       "      <td>0.0</td>\n",
       "      <td>0.0</td>\n",
       "      <td>normal.</td>\n",
       "      <td>normal</td>\n",
       "    </tr>\n",
       "    <tr>\n",
       "      <th>1</th>\n",
       "      <td>0</td>\n",
       "      <td>tcp</td>\n",
       "      <td>http</td>\n",
       "      <td>SF</td>\n",
       "      <td>239</td>\n",
       "      <td>486</td>\n",
       "      <td>0</td>\n",
       "      <td>0</td>\n",
       "      <td>0</td>\n",
       "      <td>0</td>\n",
       "      <td>...</td>\n",
       "      <td>1.0</td>\n",
       "      <td>0.0</td>\n",
       "      <td>0.05</td>\n",
       "      <td>0.00</td>\n",
       "      <td>0.00</td>\n",
       "      <td>0.00</td>\n",
       "      <td>0.0</td>\n",
       "      <td>0.0</td>\n",
       "      <td>normal.</td>\n",
       "      <td>normal</td>\n",
       "    </tr>\n",
       "    <tr>\n",
       "      <th>2</th>\n",
       "      <td>0</td>\n",
       "      <td>tcp</td>\n",
       "      <td>http</td>\n",
       "      <td>SF</td>\n",
       "      <td>235</td>\n",
       "      <td>1337</td>\n",
       "      <td>0</td>\n",
       "      <td>0</td>\n",
       "      <td>0</td>\n",
       "      <td>0</td>\n",
       "      <td>...</td>\n",
       "      <td>1.0</td>\n",
       "      <td>0.0</td>\n",
       "      <td>0.03</td>\n",
       "      <td>0.00</td>\n",
       "      <td>0.00</td>\n",
       "      <td>0.00</td>\n",
       "      <td>0.0</td>\n",
       "      <td>0.0</td>\n",
       "      <td>normal.</td>\n",
       "      <td>normal</td>\n",
       "    </tr>\n",
       "    <tr>\n",
       "      <th>3</th>\n",
       "      <td>0</td>\n",
       "      <td>tcp</td>\n",
       "      <td>http</td>\n",
       "      <td>SF</td>\n",
       "      <td>219</td>\n",
       "      <td>1337</td>\n",
       "      <td>0</td>\n",
       "      <td>0</td>\n",
       "      <td>0</td>\n",
       "      <td>0</td>\n",
       "      <td>...</td>\n",
       "      <td>1.0</td>\n",
       "      <td>0.0</td>\n",
       "      <td>0.03</td>\n",
       "      <td>0.00</td>\n",
       "      <td>0.00</td>\n",
       "      <td>0.00</td>\n",
       "      <td>0.0</td>\n",
       "      <td>0.0</td>\n",
       "      <td>normal.</td>\n",
       "      <td>normal</td>\n",
       "    </tr>\n",
       "    <tr>\n",
       "      <th>4</th>\n",
       "      <td>0</td>\n",
       "      <td>tcp</td>\n",
       "      <td>http</td>\n",
       "      <td>SF</td>\n",
       "      <td>217</td>\n",
       "      <td>2032</td>\n",
       "      <td>0</td>\n",
       "      <td>0</td>\n",
       "      <td>0</td>\n",
       "      <td>0</td>\n",
       "      <td>...</td>\n",
       "      <td>1.0</td>\n",
       "      <td>0.0</td>\n",
       "      <td>0.02</td>\n",
       "      <td>0.00</td>\n",
       "      <td>0.00</td>\n",
       "      <td>0.00</td>\n",
       "      <td>0.0</td>\n",
       "      <td>0.0</td>\n",
       "      <td>normal.</td>\n",
       "      <td>normal</td>\n",
       "    </tr>\n",
       "    <tr>\n",
       "      <th>...</th>\n",
       "      <td>...</td>\n",
       "      <td>...</td>\n",
       "      <td>...</td>\n",
       "      <td>...</td>\n",
       "      <td>...</td>\n",
       "      <td>...</td>\n",
       "      <td>...</td>\n",
       "      <td>...</td>\n",
       "      <td>...</td>\n",
       "      <td>...</td>\n",
       "      <td>...</td>\n",
       "      <td>...</td>\n",
       "      <td>...</td>\n",
       "      <td>...</td>\n",
       "      <td>...</td>\n",
       "      <td>...</td>\n",
       "      <td>...</td>\n",
       "      <td>...</td>\n",
       "      <td>...</td>\n",
       "      <td>...</td>\n",
       "      <td>...</td>\n",
       "    </tr>\n",
       "    <tr>\n",
       "      <th>494016</th>\n",
       "      <td>0</td>\n",
       "      <td>tcp</td>\n",
       "      <td>http</td>\n",
       "      <td>SF</td>\n",
       "      <td>310</td>\n",
       "      <td>1881</td>\n",
       "      <td>0</td>\n",
       "      <td>0</td>\n",
       "      <td>0</td>\n",
       "      <td>0</td>\n",
       "      <td>...</td>\n",
       "      <td>1.0</td>\n",
       "      <td>0.0</td>\n",
       "      <td>0.01</td>\n",
       "      <td>0.05</td>\n",
       "      <td>0.00</td>\n",
       "      <td>0.01</td>\n",
       "      <td>0.0</td>\n",
       "      <td>0.0</td>\n",
       "      <td>normal.</td>\n",
       "      <td>normal</td>\n",
       "    </tr>\n",
       "    <tr>\n",
       "      <th>494017</th>\n",
       "      <td>0</td>\n",
       "      <td>tcp</td>\n",
       "      <td>http</td>\n",
       "      <td>SF</td>\n",
       "      <td>282</td>\n",
       "      <td>2286</td>\n",
       "      <td>0</td>\n",
       "      <td>0</td>\n",
       "      <td>0</td>\n",
       "      <td>0</td>\n",
       "      <td>...</td>\n",
       "      <td>1.0</td>\n",
       "      <td>0.0</td>\n",
       "      <td>0.17</td>\n",
       "      <td>0.05</td>\n",
       "      <td>0.00</td>\n",
       "      <td>0.01</td>\n",
       "      <td>0.0</td>\n",
       "      <td>0.0</td>\n",
       "      <td>normal.</td>\n",
       "      <td>normal</td>\n",
       "    </tr>\n",
       "    <tr>\n",
       "      <th>494018</th>\n",
       "      <td>0</td>\n",
       "      <td>tcp</td>\n",
       "      <td>http</td>\n",
       "      <td>SF</td>\n",
       "      <td>203</td>\n",
       "      <td>1200</td>\n",
       "      <td>0</td>\n",
       "      <td>0</td>\n",
       "      <td>0</td>\n",
       "      <td>0</td>\n",
       "      <td>...</td>\n",
       "      <td>1.0</td>\n",
       "      <td>0.0</td>\n",
       "      <td>0.06</td>\n",
       "      <td>0.05</td>\n",
       "      <td>0.06</td>\n",
       "      <td>0.01</td>\n",
       "      <td>0.0</td>\n",
       "      <td>0.0</td>\n",
       "      <td>normal.</td>\n",
       "      <td>normal</td>\n",
       "    </tr>\n",
       "    <tr>\n",
       "      <th>494019</th>\n",
       "      <td>0</td>\n",
       "      <td>tcp</td>\n",
       "      <td>http</td>\n",
       "      <td>SF</td>\n",
       "      <td>291</td>\n",
       "      <td>1200</td>\n",
       "      <td>0</td>\n",
       "      <td>0</td>\n",
       "      <td>0</td>\n",
       "      <td>0</td>\n",
       "      <td>...</td>\n",
       "      <td>1.0</td>\n",
       "      <td>0.0</td>\n",
       "      <td>0.04</td>\n",
       "      <td>0.05</td>\n",
       "      <td>0.04</td>\n",
       "      <td>0.01</td>\n",
       "      <td>0.0</td>\n",
       "      <td>0.0</td>\n",
       "      <td>normal.</td>\n",
       "      <td>normal</td>\n",
       "    </tr>\n",
       "    <tr>\n",
       "      <th>494020</th>\n",
       "      <td>0</td>\n",
       "      <td>tcp</td>\n",
       "      <td>http</td>\n",
       "      <td>SF</td>\n",
       "      <td>219</td>\n",
       "      <td>1234</td>\n",
       "      <td>0</td>\n",
       "      <td>0</td>\n",
       "      <td>0</td>\n",
       "      <td>0</td>\n",
       "      <td>...</td>\n",
       "      <td>1.0</td>\n",
       "      <td>0.0</td>\n",
       "      <td>0.17</td>\n",
       "      <td>0.05</td>\n",
       "      <td>0.00</td>\n",
       "      <td>0.01</td>\n",
       "      <td>0.0</td>\n",
       "      <td>0.0</td>\n",
       "      <td>normal.</td>\n",
       "      <td>normal</td>\n",
       "    </tr>\n",
       "  </tbody>\n",
       "</table>\n",
       "<p>494021 rows × 43 columns</p>\n",
       "</div>"
      ]
     },
     "execution_count": 11,
     "metadata": {},
     "output_type": "execute_result"
    }
   ],
   "execution_count": 11
  },
  {
   "cell_type": "code",
   "metadata": {
    "ExecuteTime": {
     "end_time": "2024-12-06T07:36:23.174908Z",
     "start_time": "2024-12-06T07:36:23.160946Z"
    }
   },
   "source": [
    "#后面四列是标签\n",
    "df.shape"
   ],
   "outputs": [
    {
     "data": {
      "text/plain": [
       "(494021, 43)"
      ]
     },
     "execution_count": 12,
     "metadata": {},
     "output_type": "execute_result"
    }
   ],
   "execution_count": 12
  },
  {
   "cell_type": "code",
   "metadata": {
    "execution": {
     "iopub.execute_input": "2021-12-22T12:14:02.602840Z",
     "iopub.status.busy": "2021-12-22T12:14:02.602027Z",
     "iopub.status.idle": "2021-12-22T12:14:02.705047Z",
     "shell.execute_reply": "2021-12-22T12:14:02.704094Z",
     "shell.execute_reply.started": "2021-12-22T12:14:02.602799Z"
    },
    "ExecuteTime": {
     "end_time": "2024-12-06T07:36:23.221781Z",
     "start_time": "2024-12-06T07:36:23.177899Z"
    }
   },
   "source": [
    "df['target'].value_counts() #统计标签数量"
   ],
   "outputs": [
    {
     "data": {
      "text/plain": [
       "target\n",
       "smurf.              280790\n",
       "neptune.            107201\n",
       "normal.              97278\n",
       "back.                 2203\n",
       "satan.                1589\n",
       "ipsweep.              1247\n",
       "portsweep.            1040\n",
       "warezclient.          1020\n",
       "teardrop.              979\n",
       "pod.                   264\n",
       "nmap.                  231\n",
       "guess_passwd.           53\n",
       "buffer_overflow.        30\n",
       "land.                   21\n",
       "warezmaster.            20\n",
       "imap.                   12\n",
       "rootkit.                10\n",
       "loadmodule.              9\n",
       "ftp_write.               8\n",
       "multihop.                7\n",
       "phf.                     4\n",
       "perl.                    3\n",
       "spy.                     2\n",
       "Name: count, dtype: int64"
      ]
     },
     "execution_count": 13,
     "metadata": {},
     "output_type": "execute_result"
    }
   ],
   "execution_count": 13
  },
  {
   "cell_type": "code",
   "metadata": {
    "execution": {
     "iopub.execute_input": "2021-12-22T12:14:02.877024Z",
     "iopub.status.busy": "2021-12-22T12:14:02.876472Z",
     "iopub.status.idle": "2021-12-22T12:14:03.218289Z",
     "shell.execute_reply": "2021-12-22T12:14:03.216912Z",
     "shell.execute_reply.started": "2021-12-22T12:14:02.876985Z"
    },
    "ExecuteTime": {
     "end_time": "2024-12-06T07:36:24.262551Z",
     "start_time": "2024-12-06T07:36:23.223776Z"
    }
   },
   "source": [
    "sns.countplot(x='attack_type', data=df)"
   ],
   "outputs": [
    {
     "data": {
      "text/plain": [
       "<Axes: xlabel='attack_type', ylabel='count'>"
      ]
     },
     "execution_count": 14,
     "metadata": {},
     "output_type": "execute_result"
    },
    {
     "data": {
      "text/plain": [
       "<Figure size 640x480 with 1 Axes>"
      ],
      "image/png": "[encoded data removed]"
     },
     "metadata": {},
     "output_type": "display_data"
    }
   ],
   "execution_count": 14
  },
  {
   "cell_type": "code",
   "metadata": {
    "execution": {
     "iopub.execute_input": "2021-12-22T12:14:03.220015Z",
     "iopub.status.busy": "2021-12-22T12:14:03.219645Z",
     "iopub.status.idle": "2021-12-22T12:14:03.322003Z",
     "shell.execute_reply": "2021-12-22T12:14:03.321170Z",
     "shell.execute_reply.started": "2021-12-22T12:14:03.219978Z"
    },
    "ExecuteTime": {
     "end_time": "2024-12-06T07:36:24.294426Z",
     "start_time": "2024-12-06T07:36:24.264507Z"
    }
   },
   "source": [
    "df['attack_type'].value_counts()"
   ],
   "outputs": [
    {
     "data": {
      "text/plain": [
       "attack_type\n",
       "dos       391458\n",
       "normal     97278\n",
       "probe       4107\n",
       "r2l         1126\n",
       "u2r           52\n",
       "Name: count, dtype: int64"
      ]
     },
     "execution_count": 15,
     "metadata": {},
     "output_type": "execute_result"
    }
   ],
   "execution_count": 15
  },
  {
   "cell_type": "code",
   "metadata": {
    "execution": {
     "iopub.execute_input": "2021-12-22T12:14:03.324335Z",
     "iopub.status.busy": "2021-12-22T12:14:03.323877Z",
     "iopub.status.idle": "2021-12-22T12:14:03.335065Z",
     "shell.execute_reply": "2021-12-22T12:14:03.334175Z",
     "shell.execute_reply.started": "2021-12-22T12:14:03.324296Z"
    },
    "ExecuteTime": {
     "end_time": "2024-12-06T07:36:24.310386Z",
     "start_time": "2024-12-06T07:36:24.295424Z"
    }
   },
   "source": [
    "df.dtypes"
   ],
   "outputs": [
    {
     "data": {
      "text/plain": [
       "duration                         int64\n",
       "protocol_type                   object\n",
       "service                         object\n",
       "flag                            object\n",
       "src_bytes                        int64\n",
       "dst_bytes                        int64\n",
       "land                             int64\n",
       "wrong_fragment                   int64\n",
       "urgent                           int64\n",
       "hot                              int64\n",
       "num_failed_logins                int64\n",
       "logged_in                        int64\n",
       "num_compromised                  int64\n",
       "root_shell                       int64\n",
       "su_attempted                     int64\n",
       "num_root                         int64\n",
       "num_file_creations               int64\n",
       "num_shells                       int64\n",
       "num_access_files                 int64\n",
       "num_outbound_cmds                int64\n",
       "is_host_login                    int64\n",
       "is_guest_login                   int64\n",
       "count                            int64\n",
       "srv_count                        int64\n",
       "serror_rate                    float64\n",
       "srv_serror_rate                float64\n",
       "rerror_rate                    float64\n",
       "srv_rerror_rate                float64\n",
       "same_srv_rate                  float64\n",
       "diff_srv_rate                  float64\n",
       "srv_diff_host_rate             float64\n",
       "dst_host_count                   int64\n",
       "dst_host_srv_count               int64\n",
       "dst_host_same_srv_rate         float64\n",
       "dst_host_diff_srv_rate         float64\n",
       "dst_host_same_src_port_rate    float64\n",
       "dst_host_srv_diff_host_rate    float64\n",
       "dst_host_serror_rate           float64\n",
       "dst_host_srv_serror_rate       float64\n",
       "dst_host_rerror_rate           float64\n",
       "dst_host_srv_rerror_rate       float64\n",
       "target                          object\n",
       "attack_type                     object\n",
       "dtype: object"
      ]
     },
     "execution_count": 16,
     "metadata": {},
     "output_type": "execute_result"
    }
   ],
   "execution_count": 16
  },
  {
   "cell_type": "markdown",
   "metadata": {},
   "source": [
    "DATA PREPROCESSING"
   ]
  },
  {
   "cell_type": "code",
   "metadata": {
    "execution": {
     "iopub.execute_input": "2021-12-22T12:14:03.338152Z",
     "iopub.status.busy": "2021-12-22T12:14:03.337905Z",
     "iopub.status.idle": "2021-12-22T12:14:03.617952Z",
     "shell.execute_reply": "2021-12-22T12:14:03.617052Z",
     "shell.execute_reply.started": "2021-12-22T12:14:03.338129Z"
    },
    "ExecuteTime": {
     "end_time": "2024-12-06T07:36:24.437047Z",
     "start_time": "2024-12-06T07:36:24.312380Z"
    }
   },
   "source": [
    "df.isnull().sum() #查看控制个数"
   ],
   "outputs": [
    {
     "data": {
      "text/plain": [
       "duration                       0\n",
       "protocol_type                  0\n",
       "service                        0\n",
       "flag                           0\n",
       "src_bytes                      0\n",
       "dst_bytes                      0\n",
       "land                           0\n",
       "wrong_fragment                 0\n",
       "urgent                         0\n",
       "hot                            0\n",
       "num_failed_logins              0\n",
       "logged_in                      0\n",
       "num_compromised                0\n",
       "root_shell                     0\n",
       "su_attempted                   0\n",
       "num_root                       0\n",
       "num_file_creations             0\n",
       "num_shells                     0\n",
       "num_access_files               0\n",
       "num_outbound_cmds              0\n",
       "is_host_login                  0\n",
       "is_guest_login                 0\n",
       "count                          0\n",
       "srv_count                      0\n",
       "serror_rate                    0\n",
       "srv_serror_rate                0\n",
       "rerror_rate                    0\n",
       "srv_rerror_rate                0\n",
       "same_srv_rate                  0\n",
       "diff_srv_rate                  0\n",
       "srv_diff_host_rate             0\n",
       "dst_host_count                 0\n",
       "dst_host_srv_count             0\n",
       "dst_host_same_srv_rate         0\n",
       "dst_host_diff_srv_rate         0\n",
       "dst_host_same_src_port_rate    0\n",
       "dst_host_srv_diff_host_rate    0\n",
       "dst_host_serror_rate           0\n",
       "dst_host_srv_serror_rate       0\n",
       "dst_host_rerror_rate           0\n",
       "dst_host_srv_rerror_rate       0\n",
       "target                         0\n",
       "attack_type                    0\n",
       "dtype: int64"
      ]
     },
     "execution_count": 17,
     "metadata": {},
     "output_type": "execute_result"
    }
   ],
   "execution_count": 17
  },
  {
   "cell_type": "code",
   "metadata": {
    "execution": {
     "iopub.execute_input": "2021-12-22T12:14:03.619724Z",
     "iopub.status.busy": "2021-12-22T12:14:03.619389Z",
     "iopub.status.idle": "2021-12-22T12:14:03.630262Z",
     "shell.execute_reply": "2021-12-22T12:14:03.629486Z",
     "shell.execute_reply.started": "2021-12-22T12:14:03.619688Z"
    },
    "ExecuteTime": {
     "end_time": "2024-12-06T07:36:24.453003Z",
     "start_time": "2024-12-06T07:36:24.439041Z"
    }
   },
   "source": [
    "df._get_numeric_data().columns  #获取数字列，"
   ],
   "outputs": [
    {
     "data": {
      "text/plain": [
       "Index(['duration', 'src_bytes', 'dst_bytes', 'land', 'wrong_fragment',\n",
       "       'urgent', 'hot', 'num_failed_logins', 'logged_in', 'num_compromised',\n",
       "       'root_shell', 'su_attempted', 'num_root', 'num_file_creations',\n",
       "       'num_shells', 'num_access_files', 'num_outbound_cmds', 'is_host_login',\n",
       "       'is_guest_login', 'count', 'srv_count', 'serror_rate',\n",
       "       'srv_serror_rate', 'rerror_rate', 'srv_rerror_rate', 'same_srv_rate',\n",
       "       'diff_srv_rate', 'srv_diff_host_rate', 'dst_host_count',\n",
       "       'dst_host_srv_count', 'dst_host_same_srv_rate',\n",
       "       'dst_host_diff_srv_rate', 'dst_host_same_src_port_rate',\n",
       "       'dst_host_srv_diff_host_rate', 'dst_host_serror_rate',\n",
       "       'dst_host_srv_serror_rate', 'dst_host_rerror_rate',\n",
       "       'dst_host_srv_rerror_rate'],\n",
       "      dtype='object')"
      ]
     },
     "execution_count": 18,
     "metadata": {},
     "output_type": "execute_result"
    }
   ],
   "execution_count": 18
  },
  {
   "cell_type": "code",
   "metadata": {
    "execution": {
     "iopub.execute_input": "2021-12-22T12:14:03.633766Z",
     "iopub.status.busy": "2021-12-22T12:14:03.633366Z",
     "iopub.status.idle": "2021-12-22T12:14:03.642185Z",
     "shell.execute_reply": "2021-12-22T12:14:03.641170Z",
     "shell.execute_reply.started": "2021-12-22T12:14:03.633737Z"
    },
    "ExecuteTime": {
     "end_time": "2024-12-06T07:36:24.468961Z",
     "start_time": "2024-12-06T07:36:24.454998Z"
    }
   },
   "source": [
    "#Finding categorical features  #找到非数字特征\n",
    "num_cols = df._get_numeric_data().columns\n",
    "\n",
    "cate_cols = list(set(df.columns)-set(num_cols))\n",
    "cate_cols.remove('target')\n",
    "cate_cols.remove('attack_type')\n",
    "cate_cols"
   ],
   "outputs": [
    {
     "data": {
      "text/plain": [
       "['service', 'flag', 'protocol_type']"
      ]
     },
     "execution_count": 19,
     "metadata": {},
     "output_type": "execute_result"
    }
   ],
   "execution_count": 19
  },
  {
   "cell_type": "code",
   "metadata": {
    "execution": {
     "iopub.execute_input": "2021-12-22T12:14:03.644072Z",
     "iopub.status.busy": "2021-12-22T12:14:03.643624Z",
     "iopub.status.idle": "2021-12-22T12:14:03.653301Z",
     "shell.execute_reply": "2021-12-22T12:14:03.651485Z",
     "shell.execute_reply.started": "2021-12-22T12:14:03.644038Z"
    },
    "ExecuteTime": {
     "end_time": "2024-12-06T07:36:24.484917Z",
     "start_time": "2024-12-06T07:36:24.469958Z"
    }
   },
   "source": [
    "list(set(df.columns)-set(num_cols)) #非数字的列名"
   ],
   "outputs": [
    {
     "data": {
      "text/plain": [
       "['service', 'target', 'attack_type', 'flag', 'protocol_type']"
      ]
     },
     "execution_count": 20,
     "metadata": {},
     "output_type": "execute_result"
    }
   ],
   "execution_count": 20
  },
  {
   "cell_type": "markdown",
   "metadata": {},
   "source": [
    "CATEGORICAL FEATURES DISTRIBUTION"
   ]
  },
  {
   "cell_type": "code",
   "metadata": {
    "execution": {
     "iopub.execute_input": "2021-12-22T12:14:03.655542Z",
     "iopub.status.busy": "2021-12-22T12:14:03.655015Z",
     "iopub.status.idle": "2021-12-22T12:14:03.660579Z",
     "shell.execute_reply": "2021-12-22T12:14:03.659358Z",
     "shell.execute_reply.started": "2021-12-22T12:14:03.655449Z"
    },
    "ExecuteTime": {
     "end_time": "2024-12-06T07:36:24.500875Z",
     "start_time": "2024-12-06T07:36:24.485915Z"
    }
   },
   "source": [
    "#Visualization\n",
    "def bar_graph(feature):\n",
    "    df[feature].value_counts().plot(kind=\"bar\")"
   ],
   "outputs": [],
   "execution_count": 21
  },
  {
   "cell_type": "code",
   "metadata": {
    "execution": {
     "iopub.execute_input": "2021-12-22T12:14:04.288441Z",
     "iopub.status.busy": "2021-12-22T12:14:04.288104Z",
     "iopub.status.idle": "2021-12-22T12:14:04.400424Z",
     "shell.execute_reply": "2021-12-22T12:14:04.399513Z",
     "shell.execute_reply.started": "2021-12-22T12:14:04.288405Z"
    },
    "ExecuteTime": {
     "end_time": "2024-12-06T07:36:24.548478Z",
     "start_time": "2024-12-06T07:36:24.501873Z"
    }
   },
   "source": [
    "type(df['protocol_type'].value_counts())"
   ],
   "outputs": [
    {
     "data": {
      "text/plain": [
       "pandas.core.series.Series"
      ]
     },
     "execution_count": 22,
     "metadata": {},
     "output_type": "execute_result"
    }
   ],
   "execution_count": 22
  },
  {
   "cell_type": "code",
   "metadata": {
    "execution": {
     "iopub.execute_input": "2021-12-22T12:14:04.403775Z",
     "iopub.status.busy": "2021-12-22T12:14:04.403486Z",
     "iopub.status.idle": "2021-12-22T12:14:04.619921Z",
     "shell.execute_reply": "2021-12-22T12:14:04.619048Z",
     "shell.execute_reply.started": "2021-12-22T12:14:04.403749Z"
    },
    "ExecuteTime": {
     "end_time": "2024-12-06T07:36:24.768887Z",
     "start_time": "2024-12-06T07:36:24.549475Z"
    }
   },
   "source": [
    "bar_graph('protocol_type')"
   ],
   "outputs": [
    {
     "data": {
      "text/plain": [
       "<Figure size 640x480 with 1 Axes>"
      ],
      "image/png": "[encoded data removed]"
     },
     "metadata": {},
     "output_type": "display_data"
    }
   ],
   "execution_count": 23
  },
  {
   "cell_type": "markdown",
   "metadata": {},
   "source": [
    "Protocol type: We notice that ICMP is the most present in the used data, then TCP and almost 20000 packets of UDP type"
   ]
  },
  {
   "cell_type": "code",
   "metadata": {
    "execution": {
     "iopub.execute_input": "2021-12-22T12:14:04.622151Z",
     "iopub.status.busy": "2021-12-22T12:14:04.621749Z",
     "iopub.status.idle": "2021-12-22T12:14:05.316021Z",
     "shell.execute_reply": "2021-12-22T12:14:05.315179Z",
     "shell.execute_reply.started": "2021-12-22T12:14:04.622110Z"
    },
    "ExecuteTime": {
     "end_time": "2024-12-06T07:36:25.851595Z",
     "start_time": "2024-12-06T07:36:24.769884Z"
    }
   },
   "source": [
    "plt.figure(figsize=(15,3))\n",
    "bar_graph('service')"
   ],
   "outputs": [
    {
     "data": {
      "text/plain": [
       "<Figure size 1500x300 with 1 Axes>"
      ],
      "image/png": "[encoded data removed]"
     },
     "metadata": {},
     "output_type": "display_data"
    }
   ],
   "execution_count": 24
  },
  {
   "cell_type": "code",
   "metadata": {
    "execution": {
     "iopub.execute_input": "2021-12-22T12:14:05.386577Z",
     "iopub.status.busy": "2021-12-22T12:14:05.386187Z",
     "iopub.status.idle": "2021-12-22T12:14:05.639150Z",
     "shell.execute_reply": "2021-12-22T12:14:05.638278Z",
     "shell.execute_reply.started": "2021-12-22T12:14:05.386540Z"
    },
    "ExecuteTime": {
     "end_time": "2024-12-06T07:36:26.165780Z",
     "start_time": "2024-12-06T07:36:25.852591Z"
    }
   },
   "source": [
    "bar_graph('flag')"
   ],
   "outputs": [
    {
     "data": {
      "text/plain": [
       "<Figure size 640x480 with 1 Axes>"
      ],
      "image/png": "[encoded data removed]"
     },
     "metadata": {},
     "output_type": "display_data"
    }
   ],
   "execution_count": 25
  },
  {
   "cell_type": "code",
   "metadata": {
    "execution": {
     "iopub.execute_input": "2021-12-22T12:14:05.641710Z",
     "iopub.status.busy": "2021-12-22T12:14:05.640992Z",
     "iopub.status.idle": "2021-12-22T12:14:05.756503Z",
     "shell.execute_reply": "2021-12-22T12:14:05.755577Z",
     "shell.execute_reply.started": "2021-12-22T12:14:05.641659Z"
    },
    "ExecuteTime": {
     "end_time": "2024-12-06T07:36:26.386193Z",
     "start_time": "2024-12-06T07:36:26.167750Z"
    }
   },
   "source": [
    "bar_graph('logged_in')"
   ],
   "outputs": [
    {
     "data": {
      "text/plain": [
       "<Figure size 640x480 with 1 Axes>"
      ],
      "image/png": "[encoded data removed]"
     },
     "metadata": {},
     "output_type": "display_data"
    }
   ],
   "execution_count": 26
  },
  {
   "cell_type": "markdown",
   "metadata": {},
   "source": [
    "logged_in (1 if successfully logged in; 0 otherwise): We notice that just 70000 packets are successfully logged in."
   ]
  },
  {
   "cell_type": "markdown",
   "metadata": {},
   "source": [
    "TARGET FEATURE DISTRIBUTION"
   ]
  },
  {
   "cell_type": "code",
   "metadata": {
    "execution": {
     "iopub.execute_input": "2021-12-22T12:14:05.758308Z",
     "iopub.status.busy": "2021-12-22T12:14:05.757902Z",
     "iopub.status.idle": "2021-12-22T12:14:06.061637Z",
     "shell.execute_reply": "2021-12-22T12:14:06.060799Z",
     "shell.execute_reply.started": "2021-12-22T12:14:05.758266Z"
    },
    "ExecuteTime": {
     "end_time": "2024-12-06T07:36:26.874890Z",
     "start_time": "2024-12-06T07:36:26.388160Z"
    }
   },
   "source": [
    "bar_graph('target')"
   ],
   "outputs": [
    {
     "data": {
      "text/plain": [
       "<Figure size 640x480 with 1 Axes>"
      ],
      "image/png": "[encoded data removed]"
     },
     "metadata": {},
     "output_type": "display_data"
    }
   ],
   "execution_count": 27
  },
  {
   "cell_type": "markdown",
   "metadata": {},
   "source": [
    "Attack Type(The attack types grouped by attack, it's what we will predict)"
   ]
  },
  {
   "cell_type": "code",
   "metadata": {
    "execution": {
     "iopub.execute_input": "2021-12-22T12:14:06.063172Z",
     "iopub.status.busy": "2021-12-22T12:14:06.062811Z",
     "iopub.status.idle": "2021-12-22T12:14:06.273228Z",
     "shell.execute_reply": "2021-12-22T12:14:06.272366Z",
     "shell.execute_reply.started": "2021-12-22T12:14:06.063143Z"
    },
    "ExecuteTime": {
     "end_time": "2024-12-06T07:36:27.112250Z",
     "start_time": "2024-12-06T07:36:26.876854Z"
    }
   },
   "source": [
    "bar_graph('attack_type')"
   ],
   "outputs": [
    {
     "data": {
      "text/plain": [
       "<Figure size 640x480 with 1 Axes>"
      ],
      "image/png": "[encoded data removed]"
     },
     "metadata": {},
     "output_type": "display_data"
    }
   ],
   "execution_count": 28
  },
  {
   "cell_type": "code",
   "metadata": {
    "execution": {
     "iopub.execute_input": "2021-12-22T12:14:06.275107Z",
     "iopub.status.busy": "2021-12-22T12:14:06.274697Z",
     "iopub.status.idle": "2021-12-22T12:14:06.281054Z",
     "shell.execute_reply": "2021-12-22T12:14:06.280228Z",
     "shell.execute_reply.started": "2021-12-22T12:14:06.275048Z"
    },
    "ExecuteTime": {
     "end_time": "2024-12-06T07:36:27.128182Z",
     "start_time": "2024-12-06T07:36:27.113220Z"
    }
   },
   "source": [
    "df.columns"
   ],
   "outputs": [
    {
     "data": {
      "text/plain": [
       "Index(['duration', 'protocol_type', 'service', 'flag', 'src_bytes',\n",
       "       'dst_bytes', 'land', 'wrong_fragment', 'urgent', 'hot',\n",
       "       'num_failed_logins', 'logged_in', 'num_compromised', 'root_shell',\n",
       "       'su_attempted', 'num_root', 'num_file_creations', 'num_shells',\n",
       "       'num_access_files', 'num_outbound_cmds', 'is_host_login',\n",
       "       'is_guest_login', 'count', 'srv_count', 'serror_rate',\n",
       "       'srv_serror_rate', 'rerror_rate', 'srv_rerror_rate', 'same_srv_rate',\n",
       "       'diff_srv_rate', 'srv_diff_host_rate', 'dst_host_count',\n",
       "       'dst_host_srv_count', 'dst_host_same_srv_rate',\n",
       "       'dst_host_diff_srv_rate', 'dst_host_same_src_port_rate',\n",
       "       'dst_host_srv_diff_host_rate', 'dst_host_serror_rate',\n",
       "       'dst_host_srv_serror_rate', 'dst_host_rerror_rate',\n",
       "       'dst_host_srv_rerror_rate', 'target', 'attack_type'],\n",
       "      dtype='object')"
      ]
     },
     "execution_count": 29,
     "metadata": {},
     "output_type": "execute_result"
    }
   ],
   "execution_count": 29
  },
  {
   "cell_type": "markdown",
   "metadata": {},
   "source": [
    "DATA CORRELATION"
   ]
  },
  {
   "cell_type": "code",
   "metadata": {
    "execution": {
     "iopub.execute_input": "2021-12-22T12:14:06.282923Z",
     "iopub.status.busy": "2021-12-22T12:14:06.282408Z",
     "iopub.status.idle": "2021-12-22T12:14:08.745116Z",
     "shell.execute_reply": "2021-12-22T12:14:08.744145Z",
     "shell.execute_reply.started": "2021-12-22T12:14:06.282879Z"
    },
    "ExecuteTime": {
     "end_time": "2024-12-06T07:36:27.883780Z",
     "start_time": "2024-12-06T07:36:27.129180Z"
    }
   },
   "source": [
    "#去除空值、删除只有唯一值的列，查看列之间的相关性\n",
    "df = df.dropna('columns')# drop columns with NaN\n",
    "\n",
    "df = df[[col for col in df if df[col].nunique() > 1]]# keep columns where there are more than 1 unique values\n",
    "\n",
    "corr = df.corr()\n",
    "\n",
    "plt.figure(figsize=(15,12))\n",
    "\n",
    "sns.heatmap(corr)\n",
    "\n",
    "plt.show()"
   ],
   "outputs": [
    {
     "ename": "TypeError",
     "evalue": "DataFrame.dropna() takes 1 positional argument but 2 were given",
     "output_type": "error",
     "traceback": [
      "\u001B[1;31m---------------------------------------------------------------------------\u001B[0m",
      "\u001B[1;31mTypeError\u001B[0m                                 Traceback (most recent call last)",
      "Cell \u001B[1;32mIn[30], line 2\u001B[0m\n\u001B[0;32m      1\u001B[0m \u001B[38;5;66;03m#去除空值、删除只有唯一值的列，查看列之间的相关性\u001B[39;00m\n\u001B[1;32m----> 2\u001B[0m df \u001B[38;5;241m=\u001B[39m \u001B[43mdf\u001B[49m\u001B[38;5;241;43m.\u001B[39;49m\u001B[43mdropna\u001B[49m\u001B[43m(\u001B[49m\u001B[38;5;124;43m'\u001B[39;49m\u001B[38;5;124;43mcolumns\u001B[39;49m\u001B[38;5;124;43m'\u001B[39;49m\u001B[43m)\u001B[49m\u001B[38;5;66;03m# drop columns with NaN\u001B[39;00m\n\u001B[0;32m      4\u001B[0m df \u001B[38;5;241m=\u001B[39m df[[col \u001B[38;5;28;01mfor\u001B[39;00m col \u001B[38;5;129;01min\u001B[39;00m df \u001B[38;5;28;01mif\u001B[39;00m df[col]\u001B[38;5;241m.\u001B[39mnunique() \u001B[38;5;241m>\u001B[39m \u001B[38;5;241m1\u001B[39m]]\u001B[38;5;66;03m# keep columns where there are more than 1 unique values\u001B[39;00m\n\u001B[0;32m      6\u001B[0m corr \u001B[38;5;241m=\u001B[39m df\u001B[38;5;241m.\u001B[39mcorr()\n",
      "\u001B[1;31mTypeError\u001B[0m: DataFrame.dropna() takes 1 positional argument but 2 were given"
     ]
    }
   ],
   "execution_count": 30
  },
  {
   "cell_type": "code",
   "metadata": {
    "execution": {
     "iopub.execute_input": "2021-12-22T12:14:08.746539Z",
     "iopub.status.busy": "2021-12-22T12:14:08.746226Z",
     "iopub.status.idle": "2021-12-22T12:14:08.752799Z",
     "shell.execute_reply": "2021-12-22T12:14:08.751906Z",
     "shell.execute_reply.started": "2021-12-22T12:14:08.746508Z"
    },
    "ExecuteTime": {
     "end_time": "2024-12-06T07:36:27.893754Z",
     "start_time": "2024-12-06T07:36:27.892758Z"
    }
   },
   "source": [
    "df"
   ],
   "outputs": [],
   "execution_count": null
  },
  {
   "cell_type": "code",
   "metadata": {
    "execution": {
     "iopub.execute_input": "2021-12-22T12:14:08.764720Z",
     "iopub.status.busy": "2021-12-22T12:14:08.764474Z",
     "iopub.status.idle": "2021-12-22T12:14:08.781562Z",
     "shell.execute_reply": "2021-12-22T12:14:08.780666Z",
     "shell.execute_reply.started": "2021-12-22T12:14:08.764695Z"
    },
    "ExecuteTime": {
     "end_time": "2024-12-06T07:36:27.895747Z",
     "start_time": "2024-12-06T07:36:27.894750Z"
    }
   },
   "source": [
    "#查看属性相关性，高相关的属性需要在后面删除一个，相当于去除冗余\n",
    "df['num_root'].corr(df['num_compromised'])"
   ],
   "outputs": [],
   "execution_count": null
  },
  {
   "cell_type": "code",
   "metadata": {
    "execution": {
     "iopub.execute_input": "2021-12-22T12:14:08.784436Z",
     "iopub.status.busy": "2021-12-22T12:14:08.783857Z",
     "iopub.status.idle": "2021-12-22T12:14:08.797562Z",
     "shell.execute_reply": "2021-12-22T12:14:08.796692Z",
     "shell.execute_reply.started": "2021-12-22T12:14:08.784387Z"
    }
   },
   "source": [
    "df['srv_serror_rate'].corr(df['serror_rate'])"
   ],
   "outputs": [],
   "execution_count": null
  },
  {
   "cell_type": "code",
   "metadata": {
    "execution": {
     "iopub.execute_input": "2021-12-22T12:14:08.799632Z",
     "iopub.status.busy": "2021-12-22T12:14:08.799049Z",
     "iopub.status.idle": "2021-12-22T12:14:08.812205Z",
     "shell.execute_reply": "2021-12-22T12:14:08.811165Z",
     "shell.execute_reply.started": "2021-12-22T12:14:08.799594Z"
    },
    "ExecuteTime": {
     "end_time": "2024-12-06T07:36:27.899737Z",
     "start_time": "2024-12-06T07:36:27.898740Z"
    }
   },
   "source": [
    "df['srv_count'].corr(df['count'])"
   ],
   "outputs": [],
   "execution_count": null
  },
  {
   "cell_type": "code",
   "metadata": {
    "execution": {
     "iopub.execute_input": "2021-12-22T12:14:08.814223Z",
     "iopub.status.busy": "2021-12-22T12:14:08.813617Z",
     "iopub.status.idle": "2021-12-22T12:14:08.827233Z",
     "shell.execute_reply": "2021-12-22T12:14:08.826413Z",
     "shell.execute_reply.started": "2021-12-22T12:14:08.814179Z"
    },
    "ExecuteTime": {
     "end_time": "2024-12-06T07:36:27.901731Z",
     "start_time": "2024-12-06T07:36:27.901731Z"
    }
   },
   "source": [
    "df['srv_rerror_rate'].corr(df['rerror_rate'])"
   ],
   "outputs": [],
   "execution_count": null
  },
  {
   "cell_type": "code",
   "metadata": {
    "execution": {
     "iopub.execute_input": "2021-12-22T12:14:08.829304Z",
     "iopub.status.busy": "2021-12-22T12:14:08.828749Z",
     "iopub.status.idle": "2021-12-22T12:14:08.842355Z",
     "shell.execute_reply": "2021-12-22T12:14:08.841338Z",
     "shell.execute_reply.started": "2021-12-22T12:14:08.829266Z"
    },
    "ExecuteTime": {
     "end_time": "2024-12-06T07:36:27.903726Z",
     "start_time": "2024-12-06T07:36:27.902728Z"
    }
   },
   "source": [
    "df['dst_host_same_srv_rate'].corr(df['dst_host_srv_count'])"
   ],
   "outputs": [],
   "execution_count": null
  },
  {
   "cell_type": "code",
   "metadata": {
    "execution": {
     "iopub.execute_input": "2021-12-22T12:14:08.844249Z",
     "iopub.status.busy": "2021-12-22T12:14:08.843696Z",
     "iopub.status.idle": "2021-12-22T12:14:08.857265Z",
     "shell.execute_reply": "2021-12-22T12:14:08.856480Z",
     "shell.execute_reply.started": "2021-12-22T12:14:08.844207Z"
    }
   },
   "source": [
    "df['dst_host_srv_serror_rate'].corr(df['dst_host_serror_rate'])"
   ],
   "outputs": [],
   "execution_count": null
  },
  {
   "cell_type": "code",
   "metadata": {
    "execution": {
     "iopub.execute_input": "2021-12-22T12:14:08.859372Z",
     "iopub.status.busy": "2021-12-22T12:14:08.858727Z",
     "iopub.status.idle": "2021-12-22T12:14:08.872770Z",
     "shell.execute_reply": "2021-12-22T12:14:08.871967Z",
     "shell.execute_reply.started": "2021-12-22T12:14:08.859335Z"
    }
   },
   "source": [
    "df['dst_host_srv_rerror_rate'].corr(df['dst_host_rerror_rate'])"
   ],
   "outputs": [],
   "execution_count": null
  },
  {
   "cell_type": "code",
   "metadata": {
    "execution": {
     "iopub.execute_input": "2021-12-22T12:14:08.875947Z",
     "iopub.status.busy": "2021-12-22T12:14:08.875668Z",
     "iopub.status.idle": "2021-12-22T12:14:08.889749Z",
     "shell.execute_reply": "2021-12-22T12:14:08.888796Z",
     "shell.execute_reply.started": "2021-12-22T12:14:08.875921Z"
    }
   },
   "source": [
    "df['dst_host_same_srv_rate'].corr(df['same_srv_rate'])"
   ],
   "outputs": [],
   "execution_count": null
  },
  {
   "cell_type": "code",
   "metadata": {
    "execution": {
     "iopub.execute_input": "2021-12-22T12:14:08.891745Z",
     "iopub.status.busy": "2021-12-22T12:14:08.891199Z",
     "iopub.status.idle": "2021-12-22T12:14:08.904223Z",
     "shell.execute_reply": "2021-12-22T12:14:08.903448Z",
     "shell.execute_reply.started": "2021-12-22T12:14:08.891707Z"
    }
   },
   "source": [
    "df['dst_host_srv_count'].corr(df['same_srv_rate'])"
   ],
   "outputs": [],
   "execution_count": null
  },
  {
   "cell_type": "code",
   "metadata": {
    "execution": {
     "iopub.execute_input": "2021-12-22T12:14:08.906572Z",
     "iopub.status.busy": "2021-12-22T12:14:08.905937Z",
     "iopub.status.idle": "2021-12-22T12:14:08.919198Z",
     "shell.execute_reply": "2021-12-22T12:14:08.918263Z",
     "shell.execute_reply.started": "2021-12-22T12:14:08.906515Z"
    }
   },
   "source": [
    "df['dst_host_same_src_port_rate'].corr(df['srv_count'])"
   ],
   "outputs": [],
   "execution_count": null
  },
  {
   "cell_type": "code",
   "metadata": {
    "execution": {
     "iopub.execute_input": "2021-12-22T12:14:08.921014Z",
     "iopub.status.busy": "2021-12-22T12:14:08.920512Z",
     "iopub.status.idle": "2021-12-22T12:14:08.932944Z",
     "shell.execute_reply": "2021-12-22T12:14:08.932116Z",
     "shell.execute_reply.started": "2021-12-22T12:14:08.920976Z"
    }
   },
   "source": [
    "df['dst_host_serror_rate'].corr(df['serror_rate'])"
   ],
   "outputs": [],
   "execution_count": null
  },
  {
   "cell_type": "code",
   "metadata": {
    "execution": {
     "iopub.execute_input": "2021-12-22T12:14:08.934783Z",
     "iopub.status.busy": "2021-12-22T12:14:08.934227Z",
     "iopub.status.idle": "2021-12-22T12:14:08.946965Z",
     "shell.execute_reply": "2021-12-22T12:14:08.946134Z",
     "shell.execute_reply.started": "2021-12-22T12:14:08.934745Z"
    }
   },
   "source": [
    "df['dst_host_serror_rate'].corr(df['srv_serror_rate'])"
   ],
   "outputs": [],
   "execution_count": null
  },
  {
   "cell_type": "code",
   "metadata": {
    "execution": {
     "iopub.execute_input": "2021-12-22T12:14:08.948911Z",
     "iopub.status.busy": "2021-12-22T12:14:08.948387Z",
     "iopub.status.idle": "2021-12-22T12:14:08.960760Z",
     "shell.execute_reply": "2021-12-22T12:14:08.959981Z",
     "shell.execute_reply.started": "2021-12-22T12:14:08.948874Z"
    }
   },
   "source": [
    "df['dst_host_srv_serror_rate'].corr(df['serror_rate'])"
   ],
   "outputs": [],
   "execution_count": null
  },
  {
   "cell_type": "code",
   "metadata": {
    "execution": {
     "iopub.execute_input": "2021-12-22T12:14:08.962872Z",
     "iopub.status.busy": "2021-12-22T12:14:08.962316Z",
     "iopub.status.idle": "2021-12-22T12:14:08.974669Z",
     "shell.execute_reply": "2021-12-22T12:14:08.973816Z",
     "shell.execute_reply.started": "2021-12-22T12:14:08.962835Z"
    }
   },
   "source": [
    "df['dst_host_srv_serror_rate'].corr(df['srv_serror_rate'])"
   ],
   "outputs": [],
   "execution_count": null
  },
  {
   "cell_type": "code",
   "metadata": {
    "execution": {
     "iopub.execute_input": "2021-12-22T12:14:08.976478Z",
     "iopub.status.busy": "2021-12-22T12:14:08.975911Z",
     "iopub.status.idle": "2021-12-22T12:14:08.988344Z",
     "shell.execute_reply": "2021-12-22T12:14:08.987503Z",
     "shell.execute_reply.started": "2021-12-22T12:14:08.976441Z"
    }
   },
   "source": [
    "df['dst_host_rerror_rate'].corr(df['rerror_rate'])"
   ],
   "outputs": [],
   "execution_count": null
  },
  {
   "cell_type": "code",
   "metadata": {
    "execution": {
     "iopub.execute_input": "2021-12-22T12:14:08.990249Z",
     "iopub.status.busy": "2021-12-22T12:14:08.989687Z",
     "iopub.status.idle": "2021-12-22T12:14:09.002147Z",
     "shell.execute_reply": "2021-12-22T12:14:09.001186Z",
     "shell.execute_reply.started": "2021-12-22T12:14:08.990212Z"
    }
   },
   "source": [
    "df['dst_host_rerror_rate'].corr(df['srv_rerror_rate'])"
   ],
   "outputs": [],
   "execution_count": null
  },
  {
   "cell_type": "code",
   "metadata": {
    "execution": {
     "iopub.execute_input": "2021-12-22T12:14:09.004241Z",
     "iopub.status.busy": "2021-12-22T12:14:09.003668Z",
     "iopub.status.idle": "2021-12-22T12:14:09.017014Z",
     "shell.execute_reply": "2021-12-22T12:14:09.016259Z",
     "shell.execute_reply.started": "2021-12-22T12:14:09.004200Z"
    }
   },
   "source": [
    "df['dst_host_srv_rerror_rate'].corr(df['rerror_rate'])"
   ],
   "outputs": [],
   "execution_count": null
  },
  {
   "cell_type": "code",
   "metadata": {
    "execution": {
     "iopub.execute_input": "2021-12-22T12:14:09.018995Z",
     "iopub.status.busy": "2021-12-22T12:14:09.018443Z",
     "iopub.status.idle": "2021-12-22T12:14:09.031338Z",
     "shell.execute_reply": "2021-12-22T12:14:09.030422Z",
     "shell.execute_reply.started": "2021-12-22T12:14:09.018958Z"
    }
   },
   "source": [
    "df['dst_host_srv_rerror_rate'].corr(df['srv_rerror_rate'])"
   ],
   "outputs": [],
   "execution_count": null
  },
  {
   "cell_type": "code",
   "metadata": {
    "execution": {
     "iopub.execute_input": "2021-12-22T12:14:09.033348Z",
     "iopub.status.busy": "2021-12-22T12:14:09.032733Z",
     "iopub.status.idle": "2021-12-22T12:14:09.242858Z",
     "shell.execute_reply": "2021-12-22T12:14:09.242005Z",
     "shell.execute_reply.started": "2021-12-22T12:14:09.033306Z"
    }
   },
   "source": [
    "df"
   ],
   "outputs": [],
   "execution_count": null
  },
  {
   "cell_type": "code",
   "metadata": {
    "execution": {
     "iopub.execute_input": "2021-12-22T12:14:09.244599Z",
     "iopub.status.busy": "2021-12-22T12:14:09.244222Z",
     "iopub.status.idle": "2021-12-22T12:14:09.715075Z",
     "shell.execute_reply": "2021-12-22T12:14:09.714267Z",
     "shell.execute_reply.started": "2021-12-22T12:14:09.244558Z"
    }
   },
   "source": [
    "#删除冗余属性\n",
    "#This variable is highly correlated with num_compromised and should be ignored for analysis.\n",
    "#(Correlation = 0.9938277978738366)\n",
    "df.drop('num_root',axis = 1,inplace = True)\n",
    "\n",
    "#This variable is highly correlated with serror_rate and should be ignored for analysis.\n",
    "#(Correlation = 0.9983615072725952)\n",
    "df.drop('srv_serror_rate',axis = 1,inplace = True)\n",
    "\n",
    "#This variable is highly correlated with rerror_rate and should be ignored for analysis.\n",
    "#(Correlation = 0.9947309539817937)\n",
    "df.drop('srv_rerror_rate',axis = 1, inplace=True)\n",
    "\n",
    "#This variable is highly correlated with srv_serror_rate and should be ignored for analysis.\n",
    "#(Correlation = 0.9993041091850098)\n",
    "df.drop('dst_host_srv_serror_rate',axis = 1, inplace=True)\n",
    "\n",
    "#This variable is highly correlated with rerror_rate and should be ignored for analysis.\n",
    "#(Correlation = 0.9869947924956001)\n",
    "df.drop('dst_host_serror_rate',axis = 1, inplace=True)\n",
    "\n",
    "#This variable is highly correlated with srv_rerror_rate and should be ignored for analysis.\n",
    "#(Correlation = 0.9821663427308375)\n",
    "df.drop('dst_host_rerror_rate',axis = 1, inplace=True)\n",
    "\n",
    "#This variable is highly correlated with rerror_rate and should be ignored for analysis.\n",
    "#(Correlation = 0.9851995540751249)\n",
    "df.drop('dst_host_srv_rerror_rate',axis = 1, inplace=True)\n",
    "\n",
    "#This variable is highly correlated with dst_host_srv_count and should be ignored for analysis.\n",
    "#(Correlation = 0.9736854572953938)\n",
    "df.drop('dst_host_same_srv_rate',axis = 1, inplace=True)"
   ],
   "outputs": [],
   "execution_count": null
  },
  {
   "cell_type": "code",
   "metadata": {
    "execution": {
     "iopub.execute_input": "2021-12-22T12:14:09.717090Z",
     "iopub.status.busy": "2021-12-22T12:14:09.716706Z",
     "iopub.status.idle": "2021-12-22T12:14:09.743270Z",
     "shell.execute_reply": "2021-12-22T12:14:09.742270Z",
     "shell.execute_reply.started": "2021-12-22T12:14:09.717038Z"
    }
   },
   "source": [
    "df.head()"
   ],
   "outputs": [],
   "execution_count": null
  },
  {
   "cell_type": "code",
   "metadata": {
    "execution": {
     "iopub.execute_input": "2021-12-22T12:14:09.745831Z",
     "iopub.status.busy": "2021-12-22T12:14:09.745259Z",
     "iopub.status.idle": "2021-12-22T12:14:09.752699Z",
     "shell.execute_reply": "2021-12-22T12:14:09.751745Z",
     "shell.execute_reply.started": "2021-12-22T12:14:09.745787Z"
    }
   },
   "source": [
    "df.shape"
   ],
   "outputs": [],
   "execution_count": null
  },
  {
   "cell_type": "code",
   "metadata": {
    "execution": {
     "iopub.execute_input": "2021-12-22T12:14:09.754827Z",
     "iopub.status.busy": "2021-12-22T12:14:09.754256Z",
     "iopub.status.idle": "2021-12-22T12:14:09.763234Z",
     "shell.execute_reply": "2021-12-22T12:14:09.762002Z",
     "shell.execute_reply.started": "2021-12-22T12:14:09.754785Z"
    }
   },
   "source": [
    "df.columns"
   ],
   "outputs": [],
   "execution_count": null
  },
  {
   "cell_type": "code",
   "metadata": {
    "execution": {
     "iopub.execute_input": "2021-12-22T12:14:09.765537Z",
     "iopub.status.busy": "2021-12-22T12:14:09.764836Z",
     "iopub.status.idle": "2021-12-22T12:14:12.958833Z",
     "shell.execute_reply": "2021-12-22T12:14:12.958000Z",
     "shell.execute_reply.started": "2021-12-22T12:14:09.765496Z"
    }
   },
   "source": [
    "df_std = df.std()\n",
    "df_std = df_std.sort_values(ascending = True)\n",
    "df_std"
   ],
   "outputs": [],
   "execution_count": null
  },
  {
   "cell_type": "markdown",
   "metadata": {},
   "source": [
    "FEATURE MAPPING"
   ]
  },
  {
   "cell_type": "code",
   "metadata": {
    "execution": {
     "iopub.execute_input": "2021-12-22T12:14:12.960568Z",
     "iopub.status.busy": "2021-12-22T12:14:12.960209Z",
     "iopub.status.idle": "2021-12-22T12:14:13.071777Z",
     "shell.execute_reply": "2021-12-22T12:14:13.071063Z",
     "shell.execute_reply.started": "2021-12-22T12:14:12.960532Z"
    }
   },
   "source": [
    "df['protocol_type'].value_counts()"
   ],
   "outputs": [],
   "execution_count": null
  },
  {
   "cell_type": "code",
   "metadata": {
    "execution": {
     "iopub.execute_input": "2021-12-22T12:14:13.074355Z",
     "iopub.status.busy": "2021-12-22T12:14:13.073471Z",
     "iopub.status.idle": "2021-12-22T12:14:13.293283Z",
     "shell.execute_reply": "2021-12-22T12:14:13.292400Z",
     "shell.execute_reply.started": "2021-12-22T12:14:13.074315Z"
    }
   },
   "source": [
    "df"
   ],
   "outputs": [],
   "execution_count": null
  },
  {
   "cell_type": "code",
   "metadata": {
    "execution": {
     "iopub.execute_input": "2021-12-22T12:14:13.295366Z",
     "iopub.status.busy": "2021-12-22T12:14:13.294759Z",
     "iopub.status.idle": "2021-12-22T12:14:13.371164Z",
     "shell.execute_reply": "2021-12-22T12:14:13.370443Z",
     "shell.execute_reply.started": "2021-12-22T12:14:13.295321Z"
    }
   },
   "source": [
    "#离散特征数字化\n",
    "#protocol_type feature mapping\n",
    "pmap = {'icmp':0,'tcp':1,'udp':2}\n",
    "df['protocol_type'] = df['protocol_type'].map(pmap)"
   ],
   "outputs": [],
   "execution_count": null
  },
  {
   "cell_type": "code",
   "metadata": {
    "execution": {
     "iopub.execute_input": "2021-12-22T12:14:13.372716Z",
     "iopub.status.busy": "2021-12-22T12:14:13.372373Z",
     "iopub.status.idle": "2021-12-22T12:14:13.496926Z",
     "shell.execute_reply": "2021-12-22T12:14:13.495992Z",
     "shell.execute_reply.started": "2021-12-22T12:14:13.372677Z"
    }
   },
   "source": [
    "df['flag'].value_counts()"
   ],
   "outputs": [],
   "execution_count": null
  },
  {
   "cell_type": "code",
   "metadata": {
    "execution": {
     "iopub.execute_input": "2021-12-22T12:14:13.499066Z",
     "iopub.status.busy": "2021-12-22T12:14:13.498572Z",
     "iopub.status.idle": "2021-12-22T12:14:13.621308Z",
     "shell.execute_reply": "2021-12-22T12:14:13.620121Z",
     "shell.execute_reply.started": "2021-12-22T12:14:13.499028Z"
    }
   },
   "source": [
    "#离散特征数字化\n",
    "#flag feature mapping\n",
    "fmap = {'SF':0,'S0':1,'REJ':2,'RSTR':3,'RSTO':4,'SH':5 ,'S1':6 ,'S2':7,'RSTOS0':8,'S3':9 ,'OTH':10}\n",
    "df['flag'] = df['flag'].map(fmap)"
   ],
   "outputs": [],
   "execution_count": null
  },
  {
   "cell_type": "code",
   "metadata": {
    "execution": {
     "iopub.execute_input": "2021-12-22T12:14:13.629436Z",
     "iopub.status.busy": "2021-12-22T12:14:13.626851Z",
     "iopub.status.idle": "2021-12-22T12:14:13.690099Z",
     "shell.execute_reply": "2021-12-22T12:14:13.689265Z",
     "shell.execute_reply.started": "2021-12-22T12:14:13.629343Z"
    }
   },
   "source": [
    "df.head()"
   ],
   "outputs": [],
   "execution_count": null
  },
  {
   "cell_type": "code",
   "metadata": {
    "execution": {
     "iopub.execute_input": "2021-12-22T12:14:13.698667Z",
     "iopub.status.busy": "2021-12-22T12:14:13.695848Z",
     "iopub.status.idle": "2021-12-22T12:14:13.889244Z",
     "shell.execute_reply": "2021-12-22T12:14:13.888252Z",
     "shell.execute_reply.started": "2021-12-22T12:14:13.698626Z"
    }
   },
   "source": [
    "df.drop('service',axis = 1,inplace= True)  #这里为何删除这个列，我也不知道，看了kaggle也有人问作者这个问题，但是作者没回答"
   ],
   "outputs": [],
   "execution_count": null
  },
  {
   "cell_type": "code",
   "metadata": {
    "execution": {
     "iopub.execute_input": "2021-12-22T12:14:13.902166Z",
     "iopub.status.busy": "2021-12-22T12:14:13.899952Z",
     "iopub.status.idle": "2021-12-22T12:14:13.915972Z",
     "shell.execute_reply": "2021-12-22T12:14:13.914884Z",
     "shell.execute_reply.started": "2021-12-22T12:14:13.902124Z"
    }
   },
   "source": [
    "df.shape"
   ],
   "outputs": [],
   "execution_count": null
  },
  {
   "cell_type": "code",
   "metadata": {
    "execution": {
     "iopub.execute_input": "2021-12-22T12:14:13.922410Z",
     "iopub.status.busy": "2021-12-22T12:14:13.920533Z",
     "iopub.status.idle": "2021-12-22T12:14:13.987533Z",
     "shell.execute_reply": "2021-12-22T12:14:13.986321Z",
     "shell.execute_reply.started": "2021-12-22T12:14:13.922359Z"
    }
   },
   "source": [
    "df.head()"
   ],
   "outputs": [],
   "execution_count": null
  },
  {
   "cell_type": "code",
   "metadata": {
    "execution": {
     "iopub.execute_input": "2021-12-22T12:14:13.989512Z",
     "iopub.status.busy": "2021-12-22T12:14:13.989181Z",
     "iopub.status.idle": "2021-12-22T12:14:14.009404Z",
     "shell.execute_reply": "2021-12-22T12:14:14.007612Z",
     "shell.execute_reply.started": "2021-12-22T12:14:13.989478Z"
    }
   },
   "source": [
    "df.dtypes"
   ],
   "outputs": [],
   "execution_count": null
  },
  {
   "cell_type": "markdown",
   "metadata": {},
   "source": [
    "MODELLING"
   ]
  },
  {
   "cell_type": "code",
   "metadata": {
    "execution": {
     "iopub.execute_input": "2021-12-22T12:14:14.011210Z",
     "iopub.status.busy": "2021-12-22T12:14:14.010866Z",
     "iopub.status.idle": "2021-12-22T12:14:14.147562Z",
     "shell.execute_reply": "2021-12-22T12:14:14.146664Z",
     "shell.execute_reply.started": "2021-12-22T12:14:14.011176Z"
    }
   },
   "source": [
    "from sklearn.model_selection import train_test_split\n",
    "from sklearn.preprocessing import MinMaxScaler\n",
    "from sklearn.metrics import accuracy_score"
   ],
   "outputs": [],
   "execution_count": null
  },
  {
   "cell_type": "code",
   "metadata": {},
   "source": [],
   "outputs": [],
   "execution_count": null
  },
  {
   "cell_type": "code",
   "metadata": {
    "execution": {
     "iopub.execute_input": "2021-12-22T12:14:14.149307Z",
     "iopub.status.busy": "2021-12-22T12:14:14.148771Z",
     "iopub.status.idle": "2021-12-22T12:14:14.836737Z",
     "shell.execute_reply": "2021-12-22T12:14:14.835804Z",
     "shell.execute_reply.started": "2021-12-22T12:14:14.149269Z"
    }
   },
   "source": [
    "#数据归一化\n",
    "df = df.drop(['target',], axis=1)\n",
    "print(df.shape)\n",
    "\n",
    "# Target variable and train set\n",
    "Y = df[['attack_type']]\n",
    "X = df.drop(['attack_type',], axis=1)\n",
    "feature_name = X.columns.tolist()\n",
    "\n",
    "sc = MinMaxScaler()\n",
    "X = sc.fit_transform(X)\n",
    "X,   feature_name"
   ],
   "outputs": [],
   "execution_count": null
  },
  {
   "cell_type": "code",
   "metadata": {},
   "source": [
    "data = pd.DataFrame(X, columns=feature_name)"
   ],
   "outputs": [],
   "execution_count": null
  },
  {
   "cell_type": "code",
   "metadata": {},
   "source": [
    "data"
   ],
   "outputs": [],
   "execution_count": null
  },
  {
   "cell_type": "code",
   "metadata": {},
   "source": [
    "data = pd.concat([data, labels], axis=1)\n",
    "data.to_csv(\"./dataset/kdd_cup99_10_percent.csv\")"
   ],
   "outputs": [],
   "execution_count": null
  },
  {
   "cell_type": "code",
   "metadata": {
    "execution": {
     "iopub.execute_input": "2021-12-22T12:14:14.149307Z",
     "iopub.status.busy": "2021-12-22T12:14:14.148771Z",
     "iopub.status.idle": "2021-12-22T12:14:14.836737Z",
     "shell.execute_reply": "2021-12-22T12:14:14.835804Z",
     "shell.execute_reply.started": "2021-12-22T12:14:14.149269Z"
    }
   },
   "source": [
    "# Split test and train data \n",
    "X_train, X_test, Y_train, Y_test = train_test_split(X, Y, test_size=0.33, random_state=42)\n",
    "print(X_train.shape, X_test.shape)\n",
    "print(Y_train.shape, Y_test.shape)"
   ],
   "outputs": [],
   "execution_count": null
  },
  {
   "cell_type": "code",
   "metadata": {},
   "source": [],
   "outputs": [],
   "execution_count": null
  },
  {
   "cell_type": "code",
   "metadata": {},
   "source": [],
   "outputs": [],
   "execution_count": null
  },
  {
   "cell_type": "code",
   "metadata": {},
   "source": [],
   "outputs": [],
   "execution_count": null
  },
  {
   "cell_type": "code",
   "metadata": {},
   "source": [],
   "outputs": [],
   "execution_count": null
  },
  {
   "cell_type": "markdown",
   "metadata": {},
   "source": [
    "GAUSSIAN NAIVE BAYES"
   ]
  },
  {
   "cell_type": "code",
   "metadata": {
    "execution": {
     "iopub.execute_input": "2021-12-22T12:14:14.838467Z",
     "iopub.status.busy": "2021-12-22T12:14:14.838096Z",
     "iopub.status.idle": "2021-12-22T12:14:14.845298Z",
     "shell.execute_reply": "2021-12-22T12:14:14.844307Z",
     "shell.execute_reply.started": "2021-12-22T12:14:14.838427Z"
    }
   },
   "source": [
    "# Gaussian Naive Bayes\n",
    "from sklearn.naive_bayes import GaussianNB"
   ],
   "outputs": [],
   "execution_count": null
  },
  {
   "cell_type": "code",
   "metadata": {
    "execution": {
     "iopub.execute_input": "2021-12-22T12:14:14.847506Z",
     "iopub.status.busy": "2021-12-22T12:14:14.847008Z",
     "iopub.status.idle": "2021-12-22T12:14:14.853134Z",
     "shell.execute_reply": "2021-12-22T12:14:14.852180Z",
     "shell.execute_reply.started": "2021-12-22T12:14:14.847467Z"
    }
   },
   "source": [
    "model1 = GaussianNB()"
   ],
   "outputs": [],
   "execution_count": null
  },
  {
   "cell_type": "code",
   "metadata": {
    "execution": {
     "iopub.execute_input": "2021-12-22T12:14:14.854907Z",
     "iopub.status.busy": "2021-12-22T12:14:14.854544Z",
     "iopub.status.idle": "2021-12-22T12:14:15.754201Z",
     "shell.execute_reply": "2021-12-22T12:14:15.753279Z",
     "shell.execute_reply.started": "2021-12-22T12:14:14.854861Z"
    }
   },
   "source": [
    "start_time = time.time()\n",
    "model1.fit(X_train, Y_train.values.ravel())\n",
    "end_time = time.time()"
   ],
   "outputs": [],
   "execution_count": null
  },
  {
   "cell_type": "code",
   "metadata": {
    "execution": {
     "iopub.execute_input": "2021-12-22T12:14:15.756121Z",
     "iopub.status.busy": "2021-12-22T12:14:15.755712Z",
     "iopub.status.idle": "2021-12-22T12:14:15.761317Z",
     "shell.execute_reply": "2021-12-22T12:14:15.760233Z",
     "shell.execute_reply.started": "2021-12-22T12:14:15.756066Z"
    }
   },
   "source": [
    "print(\"Training time: \",end_time-start_time)"
   ],
   "outputs": [],
   "execution_count": null
  },
  {
   "cell_type": "code",
   "metadata": {
    "execution": {
     "iopub.execute_input": "2021-12-22T12:14:15.763389Z",
     "iopub.status.busy": "2021-12-22T12:14:15.762818Z",
     "iopub.status.idle": "2021-12-22T12:14:15.956740Z",
     "shell.execute_reply": "2021-12-22T12:14:15.955946Z",
     "shell.execute_reply.started": "2021-12-22T12:14:15.763350Z"
    }
   },
   "source": [
    "start_time = time.time()\n",
    "Y_test_pred1 = model1.predict(X_test)\n",
    "end_time = time.time()"
   ],
   "outputs": [],
   "execution_count": null
  },
  {
   "cell_type": "code",
   "metadata": {
    "execution": {
     "iopub.execute_input": "2021-12-22T12:14:15.958511Z",
     "iopub.status.busy": "2021-12-22T12:14:15.958100Z",
     "iopub.status.idle": "2021-12-22T12:14:15.964613Z",
     "shell.execute_reply": "2021-12-22T12:14:15.963704Z",
     "shell.execute_reply.started": "2021-12-22T12:14:15.958469Z"
    }
   },
   "source": [
    "print(\"Testing time: \",end_time-start_time)"
   ],
   "outputs": [],
   "execution_count": null
  },
  {
   "cell_type": "code",
   "metadata": {
    "execution": {
     "iopub.execute_input": "2021-12-22T12:14:15.966683Z",
     "iopub.status.busy": "2021-12-22T12:14:15.965995Z",
     "iopub.status.idle": "2021-12-22T12:14:17.109239Z",
     "shell.execute_reply": "2021-12-22T12:14:17.108166Z",
     "shell.execute_reply.started": "2021-12-22T12:14:15.966643Z"
    }
   },
   "source": [
    "print(\"Train score is:\", model1.score(X_train, Y_train))\n",
    "print(\"Test score is:\",model1.score(X_test,Y_test))"
   ],
   "outputs": [],
   "execution_count": null
  },
  {
   "cell_type": "markdown",
   "metadata": {},
   "source": [
    "DECISION TREE"
   ]
  },
  {
   "cell_type": "code",
   "metadata": {
    "execution": {
     "iopub.execute_input": "2021-12-22T12:14:17.112281Z",
     "iopub.status.busy": "2021-12-22T12:14:17.111958Z",
     "iopub.status.idle": "2021-12-22T12:14:17.386494Z",
     "shell.execute_reply": "2021-12-22T12:14:17.385698Z",
     "shell.execute_reply.started": "2021-12-22T12:14:17.112245Z"
    }
   },
   "source": [
    "#Decision Tree \n",
    "from sklearn.tree import DecisionTreeClassifier"
   ],
   "outputs": [],
   "execution_count": null
  },
  {
   "cell_type": "code",
   "metadata": {
    "execution": {
     "iopub.execute_input": "2021-12-22T12:14:17.388118Z",
     "iopub.status.busy": "2021-12-22T12:14:17.387708Z",
     "iopub.status.idle": "2021-12-22T12:14:17.392573Z",
     "shell.execute_reply": "2021-12-22T12:14:17.391650Z",
     "shell.execute_reply.started": "2021-12-22T12:14:17.388065Z"
    }
   },
   "source": [
    "model2 = DecisionTreeClassifier(criterion=\"entropy\", max_depth = 4)"
   ],
   "outputs": [],
   "execution_count": null
  },
  {
   "cell_type": "code",
   "metadata": {
    "execution": {
     "iopub.execute_input": "2021-12-22T12:14:17.394899Z",
     "iopub.status.busy": "2021-12-22T12:14:17.394148Z",
     "iopub.status.idle": "2021-12-22T12:14:18.512539Z",
     "shell.execute_reply": "2021-12-22T12:14:18.511637Z",
     "shell.execute_reply.started": "2021-12-22T12:14:17.394859Z"
    }
   },
   "source": [
    "start_time = time.time()\n",
    "model2.fit(X_train, Y_train.values.ravel())\n",
    "end_time = time.time()"
   ],
   "outputs": [],
   "execution_count": null
  },
  {
   "cell_type": "code",
   "metadata": {
    "execution": {
     "iopub.execute_input": "2021-12-22T12:14:18.514193Z",
     "iopub.status.busy": "2021-12-22T12:14:18.513845Z",
     "iopub.status.idle": "2021-12-22T12:14:18.518937Z",
     "shell.execute_reply": "2021-12-22T12:14:18.518093Z",
     "shell.execute_reply.started": "2021-12-22T12:14:18.514157Z"
    }
   },
   "source": [
    "print(\"Training time: \",end_time-start_time)"
   ],
   "outputs": [],
   "execution_count": null
  },
  {
   "cell_type": "code",
   "metadata": {
    "execution": {
     "iopub.execute_input": "2021-12-22T12:14:18.520665Z",
     "iopub.status.busy": "2021-12-22T12:14:18.520235Z",
     "iopub.status.idle": "2021-12-22T12:14:18.548396Z",
     "shell.execute_reply": "2021-12-22T12:14:18.547674Z",
     "shell.execute_reply.started": "2021-12-22T12:14:18.520624Z"
    }
   },
   "source": [
    "start_time = time.time()\n",
    "Y_test_pred2 = model2.predict(X_test)\n",
    "end_time = time.time()"
   ],
   "outputs": [],
   "execution_count": null
  },
  {
   "cell_type": "code",
   "metadata": {
    "execution": {
     "iopub.execute_input": "2021-12-22T12:14:18.551545Z",
     "iopub.status.busy": "2021-12-22T12:14:18.551290Z",
     "iopub.status.idle": "2021-12-22T12:14:18.557811Z",
     "shell.execute_reply": "2021-12-22T12:14:18.556872Z",
     "shell.execute_reply.started": "2021-12-22T12:14:18.551520Z"
    }
   },
   "source": [
    "print(\"Testing time: \",end_time-start_time)"
   ],
   "outputs": [],
   "execution_count": null
  },
  {
   "cell_type": "code",
   "metadata": {
    "execution": {
     "iopub.execute_input": "2021-12-22T12:14:18.559656Z",
     "iopub.status.busy": "2021-12-22T12:14:18.559305Z",
     "iopub.status.idle": "2021-12-22T12:14:19.557188Z",
     "shell.execute_reply": "2021-12-22T12:14:19.556220Z",
     "shell.execute_reply.started": "2021-12-22T12:14:18.559622Z"
    }
   },
   "source": [
    "print(\"Train score is:\", model2.score(X_train, Y_train))\n",
    "print(\"Test score is:\",model2.score(X_test,Y_test))"
   ],
   "outputs": [],
   "execution_count": null
  },
  {
   "cell_type": "markdown",
   "metadata": {},
   "source": [
    "RANDOM FOREST"
   ]
  },
  {
   "cell_type": "code",
   "metadata": {
    "execution": {
     "iopub.execute_input": "2021-12-22T12:14:19.560505Z",
     "iopub.status.busy": "2021-12-22T12:14:19.560237Z",
     "iopub.status.idle": "2021-12-22T12:14:19.584645Z",
     "shell.execute_reply": "2021-12-22T12:14:19.583989Z",
     "shell.execute_reply.started": "2021-12-22T12:14:19.560472Z"
    }
   },
   "source": [
    "from sklearn.ensemble import RandomForestClassifier"
   ],
   "outputs": [],
   "execution_count": null
  },
  {
   "cell_type": "code",
   "metadata": {
    "execution": {
     "iopub.execute_input": "2021-12-22T12:14:19.586485Z",
     "iopub.status.busy": "2021-12-22T12:14:19.586129Z",
     "iopub.status.idle": "2021-12-22T12:14:19.592400Z",
     "shell.execute_reply": "2021-12-22T12:14:19.591601Z",
     "shell.execute_reply.started": "2021-12-22T12:14:19.586448Z"
    }
   },
   "source": [
    "model3 = RandomForestClassifier(n_estimators=40)"
   ],
   "outputs": [],
   "execution_count": null
  },
  {
   "cell_type": "code",
   "metadata": {
    "execution": {
     "iopub.execute_input": "2021-12-22T12:14:19.594477Z",
     "iopub.status.busy": "2021-12-22T12:14:19.594236Z",
     "iopub.status.idle": "2021-12-22T12:14:26.553382Z",
     "shell.execute_reply": "2021-12-22T12:14:26.552523Z",
     "shell.execute_reply.started": "2021-12-22T12:14:19.594454Z"
    }
   },
   "source": [
    "start_time = time.time()\n",
    "model3.fit(X_train, Y_train.values.ravel())\n",
    "end_time = time.time()"
   ],
   "outputs": [],
   "execution_count": null
  },
  {
   "cell_type": "code",
   "metadata": {
    "execution": {
     "iopub.execute_input": "2021-12-22T12:14:26.555098Z",
     "iopub.status.busy": "2021-12-22T12:14:26.554723Z",
     "iopub.status.idle": "2021-12-22T12:14:26.561726Z",
     "shell.execute_reply": "2021-12-22T12:14:26.560782Z",
     "shell.execute_reply.started": "2021-12-22T12:14:26.555043Z"
    }
   },
   "source": [
    "print(\"Training time: \",end_time-start_time)"
   ],
   "outputs": [],
   "execution_count": null
  },
  {
   "cell_type": "code",
   "metadata": {
    "execution": {
     "iopub.execute_input": "2021-12-22T12:14:26.563748Z",
     "iopub.status.busy": "2021-12-22T12:14:26.563138Z",
     "iopub.status.idle": "2021-12-22T12:14:27.053845Z",
     "shell.execute_reply": "2021-12-22T12:14:27.053085Z",
     "shell.execute_reply.started": "2021-12-22T12:14:26.563703Z"
    }
   },
   "source": [
    "start_time = time.time()\n",
    "Y_test_pred3 = model3.predict(X_test)\n",
    "end_time = time.time()"
   ],
   "outputs": [],
   "execution_count": null
  },
  {
   "cell_type": "code",
   "metadata": {
    "execution": {
     "iopub.execute_input": "2021-12-22T12:14:27.056673Z",
     "iopub.status.busy": "2021-12-22T12:14:27.056032Z",
     "iopub.status.idle": "2021-12-22T12:14:27.062521Z",
     "shell.execute_reply": "2021-12-22T12:14:27.061423Z",
     "shell.execute_reply.started": "2021-12-22T12:14:27.056628Z"
    }
   },
   "source": [
    "print(\"Testing time: \",end_time-start_time)"
   ],
   "outputs": [],
   "execution_count": null
  },
  {
   "cell_type": "code",
   "metadata": {
    "execution": {
     "iopub.execute_input": "2021-12-22T12:14:27.064726Z",
     "iopub.status.busy": "2021-12-22T12:14:27.064092Z",
     "iopub.status.idle": "2021-12-22T12:14:29.485705Z",
     "shell.execute_reply": "2021-12-22T12:14:29.484693Z",
     "shell.execute_reply.started": "2021-12-22T12:14:27.064685Z"
    }
   },
   "source": [
    "print(\"Train score is:\", model3.score(X_train, Y_train))\n",
    "print(\"Test score is:\",model3.score(X_test,Y_test))"
   ],
   "outputs": [],
   "execution_count": null
  },
  {
   "metadata": {},
   "cell_type": "code",
   "source": [
    "from sklearn.cluster import KMeans\n",
    "Kmodel = KMeans(n_clusters=6,random_state=42)\n",
    "y_pred = Kmodel.fit(X_train, Y_train)\n"
   ],
   "outputs": [],
   "execution_count": null
  },
  {
   "cell_type": "markdown",
   "metadata": {},
   "source": [
    "SUPPORT VECTOR MACHINE"
   ]
  },
  {
   "cell_type": "code",
   "metadata": {
    "execution": {
     "iopub.execute_input": "2021-12-22T12:14:29.487845Z",
     "iopub.status.busy": "2021-12-22T12:14:29.487239Z",
     "iopub.status.idle": "2021-12-22T12:14:29.492832Z",
     "shell.execute_reply": "2021-12-22T12:14:29.491899Z",
     "shell.execute_reply.started": "2021-12-22T12:14:29.487799Z"
    }
   },
   "source": [
    "from sklearn.svm import SVC"
   ],
   "outputs": [],
   "execution_count": null
  },
  {
   "cell_type": "code",
   "metadata": {
    "execution": {
     "iopub.execute_input": "2021-12-22T12:14:29.495127Z",
     "iopub.status.busy": "2021-12-22T12:14:29.494458Z",
     "iopub.status.idle": "2021-12-22T12:14:29.503001Z",
     "shell.execute_reply": "2021-12-22T12:14:29.502163Z",
     "shell.execute_reply.started": "2021-12-22T12:14:29.495063Z"
    }
   },
   "source": [
    "model4 = SVC(gamma = 'scale')"
   ],
   "outputs": [],
   "execution_count": null
  },
  {
   "cell_type": "code",
   "metadata": {
    "execution": {
     "iopub.execute_input": "2021-12-22T12:14:29.506487Z",
     "iopub.status.busy": "2021-12-22T12:14:29.506164Z",
     "iopub.status.idle": "2021-12-22T12:16:48.484162Z",
     "shell.execute_reply": "2021-12-22T12:16:48.483339Z",
     "shell.execute_reply.started": "2021-12-22T12:14:29.506460Z"
    }
   },
   "source": [
    "start_time = time.time()\n",
    "model4.fit(X_train, Y_train.values.ravel())\n",
    "end_time = time.time()"
   ],
   "outputs": [],
   "execution_count": null
  },
  {
   "metadata": {},
   "cell_type": "code",
   "source": "",
   "outputs": [],
   "execution_count": null
  },
  {
   "cell_type": "code",
   "metadata": {
    "execution": {
     "iopub.execute_input": "2021-12-22T12:16:48.485811Z",
     "iopub.status.busy": "2021-12-22T12:16:48.485477Z",
     "iopub.status.idle": "2021-12-22T12:16:48.491682Z",
     "shell.execute_reply": "2021-12-22T12:16:48.490793Z",
     "shell.execute_reply.started": "2021-12-22T12:16:48.485775Z"
    }
   },
   "source": [
    "print(\"Training time: \",end_time-start_time)"
   ],
   "outputs": [],
   "execution_count": null
  },
  {
   "cell_type": "code",
   "metadata": {
    "execution": {
     "iopub.execute_input": "2021-12-22T12:16:48.494031Z",
     "iopub.status.busy": "2021-12-22T12:16:48.493246Z",
     "iopub.status.idle": "2021-12-22T12:17:28.395989Z",
     "shell.execute_reply": "2021-12-22T12:17:28.395116Z",
     "shell.execute_reply.started": "2021-12-22T12:16:48.493969Z"
    }
   },
   "source": [
    "start_time = time.time()\n",
    "Y_test_pred4 = model4.predict(X_test)\n",
    "end_time = time.time()"
   ],
   "outputs": [],
   "execution_count": null
  },
  {
   "cell_type": "code",
   "metadata": {
    "execution": {
     "iopub.execute_input": "2021-12-22T12:17:28.397768Z",
     "iopub.status.busy": "2021-12-22T12:17:28.397420Z",
     "iopub.status.idle": "2021-12-22T12:17:28.403643Z",
     "shell.execute_reply": "2021-12-22T12:17:28.402707Z",
     "shell.execute_reply.started": "2021-12-22T12:17:28.397731Z"
    }
   },
   "source": [
    "print(\"Testing time: \",end_time-start_time)"
   ],
   "outputs": [],
   "execution_count": null
  },
  {
   "cell_type": "code",
   "metadata": {
    "execution": {
     "iopub.execute_input": "2021-12-22T12:17:28.405724Z",
     "iopub.status.busy": "2021-12-22T12:17:28.405110Z",
     "iopub.status.idle": "2021-12-22T12:19:32.192082Z",
     "shell.execute_reply": "2021-12-22T12:19:32.191136Z",
     "shell.execute_reply.started": "2021-12-22T12:17:28.405683Z"
    }
   },
   "source": [
    "print(\"Train score is:\", model4.score(X_train, Y_train))\n",
    "print(\"Test score is:\", model4.score(X_test,Y_test))"
   ],
   "outputs": [],
   "execution_count": null
  },
  {
   "cell_type": "markdown",
   "metadata": {},
   "source": [
    "LOGISTIC REGRESSION"
   ]
  },
  {
   "cell_type": "code",
   "metadata": {
    "execution": {
     "iopub.execute_input": "2021-12-22T12:19:32.193700Z",
     "iopub.status.busy": "2021-12-22T12:19:32.193358Z",
     "iopub.status.idle": "2021-12-22T12:19:32.198060Z",
     "shell.execute_reply": "2021-12-22T12:19:32.197257Z",
     "shell.execute_reply.started": "2021-12-22T12:19:32.193664Z"
    },
    "ExecuteTime": {
     "end_time": "2024-12-06T07:36:28.196942Z",
     "start_time": "2024-12-06T07:36:28.030387Z"
    }
   },
   "source": [
    "from sklearn.linear_model import LogisticRegression"
   ],
   "outputs": [],
   "execution_count": 31
  },
  {
   "cell_type": "code",
   "metadata": {
    "execution": {
     "iopub.execute_input": "2021-12-22T12:19:32.199916Z",
     "iopub.status.busy": "2021-12-22T12:19:32.199499Z",
     "iopub.status.idle": "2021-12-22T12:19:32.208036Z",
     "shell.execute_reply": "2021-12-22T12:19:32.207387Z",
     "shell.execute_reply.started": "2021-12-22T12:19:32.199877Z"
    },
    "ExecuteTime": {
     "end_time": "2024-12-06T07:36:28.339007Z",
     "start_time": "2024-12-06T07:36:28.334020Z"
    }
   },
   "source": [
    "model5 = LogisticRegression(max_iter=1200000)"
   ],
   "outputs": [],
   "execution_count": 32
  },
  {
   "cell_type": "code",
   "metadata": {
    "execution": {
     "iopub.execute_input": "2021-12-22T12:19:32.209367Z",
     "iopub.status.busy": "2021-12-22T12:19:32.209089Z",
     "iopub.status.idle": "2021-12-22T12:20:13.254578Z",
     "shell.execute_reply": "2021-12-22T12:20:13.253661Z",
     "shell.execute_reply.started": "2021-12-22T12:19:32.209343Z"
    },
    "ExecuteTime": {
     "end_time": "2024-12-06T07:36:29.901350Z",
     "start_time": "2024-12-06T07:36:29.853477Z"
    }
   },
   "source": [
    "start_time = time.time()\n",
    "model5.fit(X_train, Y_train.values.ravel())\n",
    "end_time = time.time()"
   ],
   "outputs": [
    {
     "ename": "NameError",
     "evalue": "name 'X_train' is not defined",
     "output_type": "error",
     "traceback": [
      "\u001B[1;31m---------------------------------------------------------------------------\u001B[0m",
      "\u001B[1;31mNameError\u001B[0m                                 Traceback (most recent call last)",
      "Cell \u001B[1;32mIn[33], line 2\u001B[0m\n\u001B[0;32m      1\u001B[0m start_time \u001B[38;5;241m=\u001B[39m time\u001B[38;5;241m.\u001B[39mtime()\n\u001B[1;32m----> 2\u001B[0m model5\u001B[38;5;241m.\u001B[39mfit(\u001B[43mX_train\u001B[49m, Y_train\u001B[38;5;241m.\u001B[39mvalues\u001B[38;5;241m.\u001B[39mravel())\n\u001B[0;32m      3\u001B[0m end_time \u001B[38;5;241m=\u001B[39m time\u001B[38;5;241m.\u001B[39mtime()\n",
      "\u001B[1;31mNameError\u001B[0m: name 'X_train' is not defined"
     ]
    }
   ],
   "execution_count": 33
  },
  {
   "cell_type": "code",
   "metadata": {
    "execution": {
     "iopub.execute_input": "2021-12-22T12:20:13.256214Z",
     "iopub.status.busy": "2021-12-22T12:20:13.255861Z",
     "iopub.status.idle": "2021-12-22T12:20:13.263219Z",
     "shell.execute_reply": "2021-12-22T12:20:13.262181Z",
     "shell.execute_reply.started": "2021-12-22T12:20:13.256178Z"
    },
    "ExecuteTime": {
     "end_time": "2024-12-06T07:36:30.012053Z",
     "start_time": "2024-12-06T07:36:29.982158Z"
    }
   },
   "source": [
    "print(\"Training time: \",end_time-start_time)"
   ],
   "outputs": [
    {
     "ename": "NameError",
     "evalue": "name 'end_time' is not defined",
     "output_type": "error",
     "traceback": [
      "\u001B[1;31m---------------------------------------------------------------------------\u001B[0m",
      "\u001B[1;31mNameError\u001B[0m                                 Traceback (most recent call last)",
      "Cell \u001B[1;32mIn[34], line 1\u001B[0m\n\u001B[1;32m----> 1\u001B[0m \u001B[38;5;28mprint\u001B[39m(\u001B[38;5;124m\"\u001B[39m\u001B[38;5;124mTraining time: \u001B[39m\u001B[38;5;124m\"\u001B[39m,\u001B[43mend_time\u001B[49m\u001B[38;5;241m-\u001B[39mstart_time)\n",
      "\u001B[1;31mNameError\u001B[0m: name 'end_time' is not defined"
     ]
    }
   ],
   "execution_count": 34
  },
  {
   "cell_type": "code",
   "metadata": {
    "execution": {
     "iopub.execute_input": "2021-12-22T12:20:13.265868Z",
     "iopub.status.busy": "2021-12-22T12:20:13.265189Z",
     "iopub.status.idle": "2021-12-22T12:20:13.286405Z",
     "shell.execute_reply": "2021-12-22T12:20:13.285731Z",
     "shell.execute_reply.started": "2021-12-22T12:20:13.265829Z"
    },
    "ExecuteTime": {
     "end_time": "2024-12-06T07:36:30.074884Z",
     "start_time": "2024-12-06T07:36:30.045962Z"
    }
   },
   "source": [
    "start_time = time.time()\n",
    "Y_test_pred5 = model5.predict(X_test)\n",
    "end_time = time.time()"
   ],
   "outputs": [
    {
     "ename": "NameError",
     "evalue": "name 'X_test' is not defined",
     "output_type": "error",
     "traceback": [
      "\u001B[1;31m---------------------------------------------------------------------------\u001B[0m",
      "\u001B[1;31mNameError\u001B[0m                                 Traceback (most recent call last)",
      "Cell \u001B[1;32mIn[35], line 2\u001B[0m\n\u001B[0;32m      1\u001B[0m start_time \u001B[38;5;241m=\u001B[39m time\u001B[38;5;241m.\u001B[39mtime()\n\u001B[1;32m----> 2\u001B[0m Y_test_pred5 \u001B[38;5;241m=\u001B[39m model5\u001B[38;5;241m.\u001B[39mpredict(\u001B[43mX_test\u001B[49m)\n\u001B[0;32m      3\u001B[0m end_time \u001B[38;5;241m=\u001B[39m time\u001B[38;5;241m.\u001B[39mtime()\n",
      "\u001B[1;31mNameError\u001B[0m: name 'X_test' is not defined"
     ]
    }
   ],
   "execution_count": 35
  },
  {
   "cell_type": "code",
   "metadata": {
    "execution": {
     "iopub.execute_input": "2021-12-22T12:20:13.289291Z",
     "iopub.status.busy": "2021-12-22T12:20:13.288788Z",
     "iopub.status.idle": "2021-12-22T12:20:13.294914Z",
     "shell.execute_reply": "2021-12-22T12:20:13.293927Z",
     "shell.execute_reply.started": "2021-12-22T12:20:13.289253Z"
    },
    "ExecuteTime": {
     "end_time": "2024-12-06T07:36:30.199552Z",
     "start_time": "2024-12-06T07:36:30.175616Z"
    }
   },
   "source": [
    "print(\"Testing time: \",end_time-start_time)"
   ],
   "outputs": [
    {
     "ename": "NameError",
     "evalue": "name 'end_time' is not defined",
     "output_type": "error",
     "traceback": [
      "\u001B[1;31m---------------------------------------------------------------------------\u001B[0m",
      "\u001B[1;31mNameError\u001B[0m                                 Traceback (most recent call last)",
      "Cell \u001B[1;32mIn[36], line 1\u001B[0m\n\u001B[1;32m----> 1\u001B[0m \u001B[38;5;28mprint\u001B[39m(\u001B[38;5;124m\"\u001B[39m\u001B[38;5;124mTesting time: \u001B[39m\u001B[38;5;124m\"\u001B[39m,\u001B[43mend_time\u001B[49m\u001B[38;5;241m-\u001B[39mstart_time)\n",
      "\u001B[1;31mNameError\u001B[0m: name 'end_time' is not defined"
     ]
    }
   ],
   "execution_count": 36
  },
  {
   "cell_type": "code",
   "metadata": {
    "execution": {
     "iopub.execute_input": "2021-12-22T12:20:13.296690Z",
     "iopub.status.busy": "2021-12-22T12:20:13.296267Z",
     "iopub.status.idle": "2021-12-22T12:20:14.276480Z",
     "shell.execute_reply": "2021-12-22T12:20:14.275778Z",
     "shell.execute_reply.started": "2021-12-22T12:20:13.296653Z"
    },
    "ExecuteTime": {
     "end_time": "2024-12-06T07:36:30.324111Z",
     "start_time": "2024-12-06T07:36:30.295189Z"
    }
   },
   "source": [
    "print(\"Train score is:\", model5.score(X_train, Y_train))\n",
    "print(\"Test score is:\",model5.score(X_test,Y_test))"
   ],
   "outputs": [
    {
     "ename": "NameError",
     "evalue": "name 'X_train' is not defined",
     "output_type": "error",
     "traceback": [
      "\u001B[1;31m---------------------------------------------------------------------------\u001B[0m",
      "\u001B[1;31mNameError\u001B[0m                                 Traceback (most recent call last)",
      "Cell \u001B[1;32mIn[37], line 1\u001B[0m\n\u001B[1;32m----> 1\u001B[0m \u001B[38;5;28mprint\u001B[39m(\u001B[38;5;124m\"\u001B[39m\u001B[38;5;124mTrain score is:\u001B[39m\u001B[38;5;124m\"\u001B[39m, model5\u001B[38;5;241m.\u001B[39mscore(\u001B[43mX_train\u001B[49m, Y_train))\n\u001B[0;32m      2\u001B[0m \u001B[38;5;28mprint\u001B[39m(\u001B[38;5;124m\"\u001B[39m\u001B[38;5;124mTest score is:\u001B[39m\u001B[38;5;124m\"\u001B[39m,model5\u001B[38;5;241m.\u001B[39mscore(X_test,Y_test))\n",
      "\u001B[1;31mNameError\u001B[0m: name 'X_train' is not defined"
     ]
    }
   ],
   "execution_count": 37
  },
  {
   "cell_type": "markdown",
   "metadata": {},
   "source": [
    "GRADIENT BOOSTING CLASSIFIER"
   ]
  },
  {
   "cell_type": "code",
   "metadata": {
    "execution": {
     "iopub.execute_input": "2021-12-22T12:20:14.277958Z",
     "iopub.status.busy": "2021-12-22T12:20:14.277608Z",
     "iopub.status.idle": "2021-12-22T12:20:14.282508Z",
     "shell.execute_reply": "2021-12-22T12:20:14.281515Z",
     "shell.execute_reply.started": "2021-12-22T12:20:14.277929Z"
    },
    "ExecuteTime": {
     "end_time": "2024-12-06T07:36:30.482715Z",
     "start_time": "2024-12-06T07:36:30.377968Z"
    }
   },
   "source": [
    "from sklearn.ensemble import GradientBoostingClassifier"
   ],
   "outputs": [],
   "execution_count": 38
  },
  {
   "cell_type": "code",
   "metadata": {
    "execution": {
     "iopub.execute_input": "2021-12-22T12:20:14.284881Z",
     "iopub.status.busy": "2021-12-22T12:20:14.284254Z",
     "iopub.status.idle": "2021-12-22T12:20:14.291651Z",
     "shell.execute_reply": "2021-12-22T12:20:14.290889Z",
     "shell.execute_reply.started": "2021-12-22T12:20:14.284841Z"
    },
    "ExecuteTime": {
     "end_time": "2024-12-06T07:36:30.546143Z",
     "start_time": "2024-12-06T07:36:30.532182Z"
    }
   },
   "source": [
    "model6 = GradientBoostingClassifier(random_state=0)"
   ],
   "outputs": [],
   "execution_count": 39
  },
  {
   "cell_type": "code",
   "metadata": {
    "execution": {
     "iopub.execute_input": "2021-12-22T12:20:14.293639Z",
     "iopub.status.busy": "2021-12-22T12:20:14.293203Z",
     "iopub.status.idle": "2021-12-22T12:24:44.752927Z",
     "shell.execute_reply": "2021-12-22T12:24:44.752141Z",
     "shell.execute_reply.started": "2021-12-22T12:20:14.293604Z"
    },
    "ExecuteTime": {
     "end_time": "2024-12-06T07:36:30.704758Z",
     "start_time": "2024-12-06T07:36:30.667831Z"
    }
   },
   "source": [
    "start_time = time.time()\n",
    "model6.fit(X_train, Y_train.values.ravel())\n",
    "end_time = time.time()"
   ],
   "outputs": [
    {
     "ename": "NameError",
     "evalue": "name 'X_train' is not defined",
     "output_type": "error",
     "traceback": [
      "\u001B[1;31m---------------------------------------------------------------------------\u001B[0m",
      "\u001B[1;31mNameError\u001B[0m                                 Traceback (most recent call last)",
      "Cell \u001B[1;32mIn[40], line 2\u001B[0m\n\u001B[0;32m      1\u001B[0m start_time \u001B[38;5;241m=\u001B[39m time\u001B[38;5;241m.\u001B[39mtime()\n\u001B[1;32m----> 2\u001B[0m model6\u001B[38;5;241m.\u001B[39mfit(\u001B[43mX_train\u001B[49m, Y_train\u001B[38;5;241m.\u001B[39mvalues\u001B[38;5;241m.\u001B[39mravel())\n\u001B[0;32m      3\u001B[0m end_time \u001B[38;5;241m=\u001B[39m time\u001B[38;5;241m.\u001B[39mtime()\n",
      "\u001B[1;31mNameError\u001B[0m: name 'X_train' is not defined"
     ]
    }
   ],
   "execution_count": 40
  },
  {
   "cell_type": "code",
   "metadata": {
    "execution": {
     "iopub.execute_input": "2021-12-22T12:24:44.754669Z",
     "iopub.status.busy": "2021-12-22T12:24:44.754261Z",
     "iopub.status.idle": "2021-12-22T12:24:44.760989Z",
     "shell.execute_reply": "2021-12-22T12:24:44.759167Z",
     "shell.execute_reply.started": "2021-12-22T12:24:44.754634Z"
    },
    "ExecuteTime": {
     "end_time": "2024-12-06T07:36:30.799478Z",
     "start_time": "2024-12-06T07:36:30.770585Z"
    }
   },
   "source": [
    "print(\"Training time: \",end_time-start_time)"
   ],
   "outputs": [
    {
     "ename": "NameError",
     "evalue": "name 'end_time' is not defined",
     "output_type": "error",
     "traceback": [
      "\u001B[1;31m---------------------------------------------------------------------------\u001B[0m",
      "\u001B[1;31mNameError\u001B[0m                                 Traceback (most recent call last)",
      "Cell \u001B[1;32mIn[41], line 1\u001B[0m\n\u001B[1;32m----> 1\u001B[0m \u001B[38;5;28mprint\u001B[39m(\u001B[38;5;124m\"\u001B[39m\u001B[38;5;124mTraining time: \u001B[39m\u001B[38;5;124m\"\u001B[39m,\u001B[43mend_time\u001B[49m\u001B[38;5;241m-\u001B[39mstart_time)\n",
      "\u001B[1;31mNameError\u001B[0m: name 'end_time' is not defined"
     ]
    }
   ],
   "execution_count": 41
  },
  {
   "cell_type": "code",
   "metadata": {
    "execution": {
     "iopub.execute_input": "2021-12-22T12:24:44.762510Z",
     "iopub.status.busy": "2021-12-22T12:24:44.762146Z",
     "iopub.status.idle": "2021-12-22T12:24:45.581748Z",
     "shell.execute_reply": "2021-12-22T12:24:45.580870Z",
     "shell.execute_reply.started": "2021-12-22T12:24:44.762467Z"
    },
    "ExecuteTime": {
     "end_time": "2024-12-06T07:36:30.861315Z",
     "start_time": "2024-12-06T07:36:30.833388Z"
    }
   },
   "source": [
    "start_time = time.time()\n",
    "Y_test_pred6 = model6.predict(X_test)\n",
    "end_time = time.time()"
   ],
   "outputs": [
    {
     "ename": "NameError",
     "evalue": "name 'X_test' is not defined",
     "output_type": "error",
     "traceback": [
      "\u001B[1;31m---------------------------------------------------------------------------\u001B[0m",
      "\u001B[1;31mNameError\u001B[0m                                 Traceback (most recent call last)",
      "Cell \u001B[1;32mIn[42], line 2\u001B[0m\n\u001B[0;32m      1\u001B[0m start_time \u001B[38;5;241m=\u001B[39m time\u001B[38;5;241m.\u001B[39mtime()\n\u001B[1;32m----> 2\u001B[0m Y_test_pred6 \u001B[38;5;241m=\u001B[39m model6\u001B[38;5;241m.\u001B[39mpredict(\u001B[43mX_test\u001B[49m)\n\u001B[0;32m      3\u001B[0m end_time \u001B[38;5;241m=\u001B[39m time\u001B[38;5;241m.\u001B[39mtime()\n",
      "\u001B[1;31mNameError\u001B[0m: name 'X_test' is not defined"
     ]
    }
   ],
   "execution_count": 42
  },
  {
   "cell_type": "code",
   "metadata": {
    "execution": {
     "iopub.execute_input": "2021-12-22T12:24:45.585260Z",
     "iopub.status.busy": "2021-12-22T12:24:45.584957Z",
     "iopub.status.idle": "2021-12-22T12:24:45.590544Z",
     "shell.execute_reply": "2021-12-22T12:24:45.589654Z",
     "shell.execute_reply.started": "2021-12-22T12:24:45.585231Z"
    },
    "ExecuteTime": {
     "end_time": "2024-12-06T07:36:31.018445Z",
     "start_time": "2024-12-06T07:36:30.983569Z"
    }
   },
   "source": [
    "print(\"Testing time: \",end_time-start_time)"
   ],
   "outputs": [
    {
     "ename": "NameError",
     "evalue": "name 'end_time' is not defined",
     "output_type": "error",
     "traceback": [
      "\u001B[1;31m---------------------------------------------------------------------------\u001B[0m",
      "\u001B[1;31mNameError\u001B[0m                                 Traceback (most recent call last)",
      "Cell \u001B[1;32mIn[43], line 1\u001B[0m\n\u001B[1;32m----> 1\u001B[0m \u001B[38;5;28mprint\u001B[39m(\u001B[38;5;124m\"\u001B[39m\u001B[38;5;124mTesting time: \u001B[39m\u001B[38;5;124m\"\u001B[39m,\u001B[43mend_time\u001B[49m\u001B[38;5;241m-\u001B[39mstart_time)\n",
      "\u001B[1;31mNameError\u001B[0m: name 'end_time' is not defined"
     ]
    }
   ],
   "execution_count": 43
  },
  {
   "cell_type": "code",
   "metadata": {
    "execution": {
     "iopub.execute_input": "2021-12-22T12:24:45.592527Z",
     "iopub.status.busy": "2021-12-22T12:24:45.591934Z",
     "iopub.status.idle": "2021-12-22T12:24:49.369605Z",
     "shell.execute_reply": "2021-12-22T12:24:49.368710Z",
     "shell.execute_reply.started": "2021-12-22T12:24:45.592488Z"
    },
    "ExecuteTime": {
     "end_time": "2024-12-06T07:36:31.158782Z",
     "start_time": "2024-12-06T07:36:31.123877Z"
    }
   },
   "source": [
    "print(\"Train score is:\", model6.score(X_train, Y_train))\n",
    "print(\"Test score is:\", model6.score(X_test,Y_test))"
   ],
   "outputs": [
    {
     "ename": "NameError",
     "evalue": "name 'X_train' is not defined",
     "output_type": "error",
     "traceback": [
      "\u001B[1;31m---------------------------------------------------------------------------\u001B[0m",
      "\u001B[1;31mNameError\u001B[0m                                 Traceback (most recent call last)",
      "Cell \u001B[1;32mIn[44], line 1\u001B[0m\n\u001B[1;32m----> 1\u001B[0m \u001B[38;5;28mprint\u001B[39m(\u001B[38;5;124m\"\u001B[39m\u001B[38;5;124mTrain score is:\u001B[39m\u001B[38;5;124m\"\u001B[39m, model6\u001B[38;5;241m.\u001B[39mscore(\u001B[43mX_train\u001B[49m, Y_train))\n\u001B[0;32m      2\u001B[0m \u001B[38;5;28mprint\u001B[39m(\u001B[38;5;124m\"\u001B[39m\u001B[38;5;124mTest score is:\u001B[39m\u001B[38;5;124m\"\u001B[39m, model6\u001B[38;5;241m.\u001B[39mscore(X_test,Y_test))\n",
      "\u001B[1;31mNameError\u001B[0m: name 'X_train' is not defined"
     ]
    }
   ],
   "execution_count": 44
  },
  {
   "cell_type": "markdown",
   "metadata": {},
   "source": [
    "Artificial Neural Network"
   ]
  },
  {
   "cell_type": "code",
   "metadata": {
    "execution": {
     "iopub.execute_input": "2021-12-22T12:24:49.371393Z",
     "iopub.status.busy": "2021-12-22T12:24:49.370877Z",
     "iopub.status.idle": "2021-12-22T12:24:49.430334Z",
     "shell.execute_reply": "2021-12-22T12:24:49.429482Z",
     "shell.execute_reply.started": "2021-12-22T12:24:49.371352Z"
    },
    "ExecuteTime": {
     "end_time": "2024-12-06T07:36:35.257248Z",
     "start_time": "2024-12-06T07:36:31.197678Z"
    }
   },
   "source": [
    "from keras.models import Sequential\n",
    "from keras.layers import Dense\n",
    "from keras.wrappers.scikit_learn import KerasClassifier"
   ],
   "outputs": [
    {
     "ename": "ModuleNotFoundError",
     "evalue": "No module named 'keras.wrappers'",
     "output_type": "error",
     "traceback": [
      "\u001B[1;31m---------------------------------------------------------------------------\u001B[0m",
      "\u001B[1;31mModuleNotFoundError\u001B[0m                       Traceback (most recent call last)",
      "Cell \u001B[1;32mIn[45], line 3\u001B[0m\n\u001B[0;32m      1\u001B[0m \u001B[38;5;28;01mfrom\u001B[39;00m \u001B[38;5;21;01mkeras\u001B[39;00m\u001B[38;5;21;01m.\u001B[39;00m\u001B[38;5;21;01mmodels\u001B[39;00m \u001B[38;5;28;01mimport\u001B[39;00m Sequential\n\u001B[0;32m      2\u001B[0m \u001B[38;5;28;01mfrom\u001B[39;00m \u001B[38;5;21;01mkeras\u001B[39;00m\u001B[38;5;21;01m.\u001B[39;00m\u001B[38;5;21;01mlayers\u001B[39;00m \u001B[38;5;28;01mimport\u001B[39;00m Dense\n\u001B[1;32m----> 3\u001B[0m \u001B[38;5;28;01mfrom\u001B[39;00m \u001B[38;5;21;01mkeras\u001B[39;00m\u001B[38;5;21;01m.\u001B[39;00m\u001B[38;5;21;01mwrappers\u001B[39;00m\u001B[38;5;21;01m.\u001B[39;00m\u001B[38;5;21;01mscikit_learn\u001B[39;00m \u001B[38;5;28;01mimport\u001B[39;00m KerasClassifier\n",
      "\u001B[1;31mModuleNotFoundError\u001B[0m: No module named 'keras.wrappers'"
     ]
    }
   ],
   "execution_count": 45
  },
  {
   "cell_type": "code",
   "metadata": {
    "execution": {
     "iopub.execute_input": "2021-12-22T12:24:49.432101Z",
     "iopub.status.busy": "2021-12-22T12:24:49.431599Z",
     "iopub.status.idle": "2021-12-22T12:24:49.439836Z",
     "shell.execute_reply": "2021-12-22T12:24:49.438971Z",
     "shell.execute_reply.started": "2021-12-22T12:24:49.432049Z"
    },
    "ExecuteTime": {
     "end_time": "2024-12-06T07:36:35.260245Z",
     "start_time": "2024-12-06T07:36:35.259243Z"
    }
   },
   "source": [
    "def fun():\n",
    "    model = Sequential()\n",
    "    \n",
    "    #here 30 is output dimension\n",
    "    model.add(Dense(30,input_dim =30,activation = 'relu',kernel_initializer='random_uniform'))\n",
    "    \n",
    "    #in next layer we do not specify the input_dim as the model is sequential so output of previous layer is input to next layer\n",
    "    model.add(Dense(1,activation='sigmoid',kernel_initializer='random_uniform'))\n",
    "    \n",
    "    #5 classes-normal,dos,probe,r2l,u2r\n",
    "    model.add(Dense(5,activation='softmax'))\n",
    "    \n",
    "    #loss is categorical_crossentropy which specifies that we have multiple classes\n",
    "    \n",
    "    model.compile(loss ='categorical_crossentropy',optimizer = 'adam',metrics = ['accuracy'])\n",
    "    \n",
    "    return model"
   ],
   "outputs": [],
   "execution_count": null
  },
  {
   "cell_type": "code",
   "metadata": {
    "execution": {
     "iopub.execute_input": "2021-12-22T12:24:49.442891Z",
     "iopub.status.busy": "2021-12-22T12:24:49.442628Z",
     "iopub.status.idle": "2021-12-22T12:24:49.451950Z",
     "shell.execute_reply": "2021-12-22T12:24:49.451151Z",
     "shell.execute_reply.started": "2021-12-22T12:24:49.442866Z"
    },
    "ExecuteTime": {
     "end_time": "2024-12-06T07:36:35.261212Z",
     "start_time": "2024-12-06T07:36:35.261212Z"
    }
   },
   "source": [
    "#Since,the dataset is very big and we cannot fit complete data at once so we use batch size.\n",
    "#This divides our data into batches each of size equal to batch_size.\n",
    "#Now only this number of samples will be loaded into memory and processed. \n",
    "#Once we are done with one batch it is flushed from memory and the next batch will be processed.\n",
    "model7 = KerasClassifier(build_fn=fun,epochs=100,batch_size=64)"
   ],
   "outputs": [],
   "execution_count": null
  },
  {
   "cell_type": "code",
   "metadata": {
    "execution": {
     "iopub.execute_input": "2021-12-22T12:24:49.455566Z",
     "iopub.status.busy": "2021-12-22T12:24:49.453690Z",
     "iopub.status.idle": "2021-12-22T12:30:33.472782Z",
     "shell.execute_reply": "2021-12-22T12:30:33.469875Z",
     "shell.execute_reply.started": "2021-12-22T12:24:49.455458Z"
    }
   },
   "source": [
    "start = time.time()\n",
    "model7.fit(X_train, Y_train.values.ravel())\n",
    "end = time.time()"
   ],
   "outputs": [],
   "execution_count": null
  },
  {
   "cell_type": "code",
   "metadata": {
    "execution": {
     "iopub.status.busy": "2021-12-22T12:30:33.474113Z",
     "iopub.status.idle": "2021-12-22T12:30:33.474991Z"
    }
   },
   "source": [
    "print('Training time')\n",
    "print((end-start))"
   ],
   "outputs": [],
   "execution_count": null
  },
  {
   "cell_type": "code",
   "metadata": {
    "execution": {
     "iopub.status.busy": "2021-12-22T12:30:33.476284Z",
     "iopub.status.idle": "2021-12-22T12:30:33.477056Z"
    }
   },
   "source": [
    "start_time = time.time()\n",
    "Y_test_pred7 = model7.predict(X_test)\n",
    "end_time = time.time()"
   ],
   "outputs": [],
   "execution_count": null
  },
  {
   "cell_type": "code",
   "metadata": {
    "execution": {
     "iopub.status.busy": "2021-12-22T12:30:33.478228Z",
     "iopub.status.idle": "2021-12-22T12:30:33.478995Z"
    }
   },
   "source": [
    "print(\"Testing time: \",end_time-start_time)"
   ],
   "outputs": [],
   "execution_count": null
  },
  {
   "cell_type": "code",
   "metadata": {
    "execution": {
     "iopub.status.busy": "2021-12-22T12:30:33.480162Z",
     "iopub.status.idle": "2021-12-22T12:30:33.480946Z"
    }
   },
   "source": [
    "start_time = time.time()\n",
    "Y_train_pred7 = model7.predict(X_train)\n",
    "end_time = time.time()"
   ],
   "outputs": [],
   "execution_count": null
  },
  {
   "cell_type": "code",
   "metadata": {
    "execution": {
     "iopub.status.busy": "2021-12-22T12:30:33.482181Z",
     "iopub.status.idle": "2021-12-22T12:30:33.482951Z"
    }
   },
   "source": [
    "accuracy_score(Y_train,Y_train_pred7)"
   ],
   "outputs": [],
   "execution_count": null
  },
  {
   "cell_type": "code",
   "metadata": {
    "execution": {
     "iopub.status.busy": "2021-12-22T12:30:33.484159Z",
     "iopub.status.idle": "2021-12-22T12:30:33.484960Z"
    }
   },
   "source": [
    "accuracy_score(Y_test,Y_test_pred7)"
   ],
   "outputs": [],
   "execution_count": null
  },
  {
   "cell_type": "markdown",
   "metadata": {},
   "source": [
    "TRAINING ACCURACY"
   ]
  },
  {
   "cell_type": "code",
   "metadata": {
    "execution": {
     "iopub.status.busy": "2021-12-22T12:30:33.486161Z",
     "iopub.status.idle": "2021-12-22T12:30:33.486931Z"
    }
   },
   "source": [
    "names = ['NB','DT','RF','SVM','LR','GB','ANN']\n",
    "values = [87.951,99.058,99.997,99.875,99.352,99.793,99.914]\n",
    "f = plt.figure(figsize=(15,3),num=10)\n",
    "plt.subplot(131)\n",
    "plt.ylim(80,102)\n",
    "plt.bar(names,values)"
   ],
   "outputs": [],
   "execution_count": null
  },
  {
   "cell_type": "code",
   "metadata": {
    "execution": {
     "iopub.status.busy": "2021-12-22T12:30:33.488132Z",
     "iopub.status.idle": "2021-12-22T12:30:33.488902Z"
    }
   },
   "source": [
    "f.savefig('training_accuracy_figure.png',bbox_inches='tight')"
   ],
   "outputs": [],
   "execution_count": null
  },
  {
   "cell_type": "markdown",
   "metadata": {},
   "source": [
    "TESTING ACCURACY"
   ]
  },
  {
   "cell_type": "code",
   "metadata": {
    "execution": {
     "iopub.status.busy": "2021-12-22T12:30:33.490092Z",
     "iopub.status.idle": "2021-12-22T12:30:33.490886Z"
    }
   },
   "source": [
    "names = ['NB','DT','RF','SVM','LR','GB','ANN']\n",
    "values = [87.903,99.052,99.969,99.879,99.352,99.771,99.886]\n",
    "f = plt.figure(figsize=(15,3),num=10)\n",
    "plt.subplot(131)\n",
    "plt.ylim(80,102)\n",
    "plt.bar(names,values)"
   ],
   "outputs": [],
   "execution_count": null
  },
  {
   "cell_type": "code",
   "metadata": {
    "execution": {
     "iopub.status.busy": "2021-12-22T12:30:33.492037Z",
     "iopub.status.idle": "2021-12-22T12:30:33.492922Z"
    }
   },
   "source": [
    "f.savefig('test_accuracy_figure.png',bbox_inches='tight')"
   ],
   "outputs": [],
   "execution_count": null
  },
  {
   "cell_type": "markdown",
   "metadata": {},
   "source": [
    "TRAINING TIME"
   ]
  },
  {
   "cell_type": "code",
   "metadata": {
    "execution": {
     "iopub.status.busy": "2021-12-22T12:30:33.494182Z",
     "iopub.status.idle": "2021-12-22T12:30:33.494950Z"
    }
   },
   "source": [
    "names = ['NB','DT','RF','SVM','LR','GB','ANN']\n",
    "values = [1.04721,1.50483,11.45332,126.96016,56.67286,446.69099,1211.54094]\n",
    "f = plt.figure(figsize=(15,3),num=10)\n",
    "plt.subplot(131)\n",
    "plt.bar(names,values)"
   ],
   "outputs": [],
   "execution_count": null
  },
  {
   "cell_type": "code",
   "metadata": {
    "execution": {
     "iopub.status.busy": "2021-12-22T12:30:33.496163Z",
     "iopub.status.idle": "2021-12-22T12:30:33.496961Z"
    }
   },
   "source": [
    "f.savefig('train_time_figure.png',bbox_inches='tight')"
   ],
   "outputs": [],
   "execution_count": null
  },
  {
   "cell_type": "markdown",
   "metadata": {},
   "source": [
    "TESTING TIME"
   ]
  },
  {
   "cell_type": "code",
   "metadata": {
    "execution": {
     "iopub.status.busy": "2021-12-22T12:30:33.498171Z",
     "iopub.status.idle": "2021-12-22T12:30:33.498968Z"
    }
   },
   "source": [
    "names = ['NB','DT','RF','SVM','LR','GB','ANN']\n",
    "values = [0.79089,0.10471,0.60961,32.72654,0.02198,1.41416,1.72521]\n",
    "f = plt.figure(figsize=(15,3),num=10)\n",
    "plt.subplot(131)\n",
    "plt.bar(names,values)"
   ],
   "outputs": [],
   "execution_count": null
  },
  {
   "cell_type": "code",
   "metadata": {
    "execution": {
     "iopub.status.busy": "2021-12-22T12:30:33.500177Z",
     "iopub.status.idle": "2021-12-22T12:30:33.500942Z"
    }
   },
   "source": [
    "f.savefig('test_time_figure.png',bbox_inches='tight')"
   ],
   "outputs": [],
   "execution_count": null
  },
  {
   "cell_type": "code",
   "metadata": {},
   "source": [],
   "outputs": [],
   "execution_count": null
  }
 ],
 "metadata": {
  "kernelspec": {
   "display_name": "homl3",
   "language": "python",
   "name": "homl3"
  },
  "language_info": {
   "codemirror_mode": {
    "name": "ipython",
    "version": 3
   },
   "file_extension": ".py",
   "mimetype": "text/x-python",
   "name": "python",
   "nbconvert_exporter": "python",
   "pygments_lexer": "ipython3",
   "version": "3.7.11"
  }
 },
 "nbformat": 4,
 "nbformat_minor": 4
}
